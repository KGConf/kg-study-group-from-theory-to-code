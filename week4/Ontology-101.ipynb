{
 "cells": [
  {
   "cell_type": "markdown",
   "metadata": {},
   "source": [
    "# Ontology Development 101: A Guide to Creating Your First Ontology\n",
    "### Natalya F. Noy and Deborah L. McGuinness \n",
    "Stanford University, Stanford, CA, 94305   \n",
    "noy@smi.stanford.edu and dlm@ksl.stanford.edu   "
   ]
  },
  {
   "cell_type": "markdown",
   "metadata": {},
   "source": [
    "1. There is no one correct way to model a domain— there are always viable alternatives. The best solution almost always depends on the application that you have in mind and the extensions that you anticipate.\n",
    "2. Ontology development is necessarily an iterative process.\n",
    "3. Concepts in the ontology should be close to objects (physical or logical) and relationships in your domain of interest. These are most likely to be nouns (objects) or verbs (relationships) in sentences that describe your domain."
   ]
  },
  {
   "cell_type": "markdown",
   "metadata": {},
   "source": [
    "## Step 1. Determine the domain and scope of the ontology\n",
    "\n",
    "1. What is the domain that the ontology will cover?\n",
    "2. For what we are going to use the ontology?\n",
    "3. For what types of questions the information in the ontology should provide answers?\n",
    "4. Who will use and maintain the ontology? *eg. to assist in natural language processing of articles in wine magazines, it may be important to include synonyms and part-of-speech information*"
   ]
  },
  {
   "cell_type": "markdown",
   "metadata": {},
   "source": [
    "Competency questions:"
   ]
  },
  {
   "cell_type": "markdown",
   "metadata": {},
   "source": [
    "## Step 2. Consider reusing existing ontologies"
   ]
  },
  {
   "cell_type": "code",
   "execution_count": null,
   "metadata": {},
   "outputs": [],
   "source": []
  },
  {
   "cell_type": "markdown",
   "metadata": {},
   "source": [
    "## Step 3. Enumerate important terms in the ontology"
   ]
  },
  {
   "cell_type": "code",
   "execution_count": null,
   "metadata": {},
   "outputs": [],
   "source": []
  },
  {
   "cell_type": "markdown",
   "metadata": {},
   "source": [
    "## Step 4. Define the classes and the class hierarchy\n",
    "* top-down\n",
    "* bottom-up\n",
    "* middle-out (combination)"
   ]
  },
  {
   "cell_type": "markdown",
   "metadata": {},
   "source": [
    "### Ensuring that the class hierarchy is correct\n",
    "* Class heirarchy \"is-a\" relationship. Class B \"is a type of\" Class A\n",
    "* A subclass relationship is transitive - \n",
    "* Classes represent concepts in the domain and not the words that denote these concepts - Synonyms for the same concept do not represent different classes\n",
    "* Avoiding class cycles"
   ]
  },
  {
   "cell_type": "markdown",
   "metadata": {},
   "source": [
    "### Analyzing siblings in a class hierarchy\n",
    "* All the siblings in the hierarchy (except for the ones at the root) must be at the same level of generality\n",
    "* Depth: If a class has only one direct subclass there may be a modeling problem or the ontology is not complete. If there are more than a dozen subclasses for a given class then additional intermediate categories may be necessary."
   ]
  },
  {
   "cell_type": "markdown",
   "metadata": {},
   "source": [
    "### Multiple inheritance\n",
    "* a class can be a subclass of several classes."
   ]
  },
  {
   "cell_type": "markdown",
   "metadata": {},
   "source": [
    "### When to introduce a new class (or not)\n",
    "Rules of thumb. Subclasses of a class usually:\n",
    "1. have additional properties that the superclass does not have, or \n",
    "2. restrictions different from those of the superclass, or \n",
    "3. participate in different relationships than the superclasses\n",
    "\n",
    "We introduce a new class in the hierarchy usually only when there is something that we can say about this class that we cannot say about the superclass"
   ]
  },
  {
   "cell_type": "markdown",
   "metadata": {},
   "source": [
    "### A new class or a property value?\n",
    "Eg: Do we create a class White wine or do we simply create a class Wine and fill in different values for the slot color?\n",
    "\n"
   ]
  },
  {
   "cell_type": "markdown",
   "metadata": {},
   "source": [
    "### An instance or a class?\n",
    "* Individual instances are the most specific concepts represented in a knowledge base.\n",
    "* Protégé-2000 allows users to specify some classes as Abstract, signifying that the class cannot have any direct instances.\n",
    "* Only classes can be arranged in a hierarchy—knowledge-representation systems do not have a notion of sub-instance. Therefore, if there is a natural hierarchy among terms, such as in terminological hierarchies from Section 4.2, we should define these terms as classes even though they may not have any instances of their own."
   ]
  },
  {
   "cell_type": "markdown",
   "metadata": {},
   "source": [
    "### Limiting the scope\n",
    "* The ontology should not contain all the possible information about the domain: you do not need to specialize (or generalize) more than you need for your application (at most one extra level each way).\n",
    "\n",
    "* The ontology should not contain all the possible properties of and distinctions among classes in the hierarchy."
   ]
  },
  {
   "cell_type": "markdown",
   "metadata": {},
   "source": [
    "### Disjoint subclasses\n",
    "Specifying that classes are disjoint enables the system to validate the ontology better.\n",
    "* Classes are disjoint if they cannot have any instances in common."
   ]
  },
  {
   "cell_type": "markdown",
   "metadata": {},
   "source": []
  },
  {
   "cell_type": "markdown",
   "metadata": {},
   "source": []
  },
  {
   "cell_type": "markdown",
   "metadata": {},
   "source": []
  },
  {
   "cell_type": "markdown",
   "metadata": {},
   "source": [
    "## Step 5. Define the properties of classes—slots"
   ]
  },
  {
   "cell_type": "markdown",
   "metadata": {},
   "source": [
    "* “intrinsic” properties such as the flavor of a wine;\n",
    "* “extrinsic” properties such as a wine’s name, and area it comes from;\n",
    "* parts, if the object is structured; these can be both physical and abstract “parts” (e.g., the courses of a meal)\n",
    "* relationships to other individuals; these are the relationships between individual members of the class and other items (e.g., the maker of a wine, representing a relationship between a wine and a winery, and the grape the wine is made from.)\n",
    "\n",
    "__A slot should be attached at the most general class that can have that property.__"
   ]
  },
  {
   "cell_type": "markdown",
   "metadata": {},
   "source": [
    "### Inverse slots\n",
    "ie: produces - was produced by\n"
   ]
  },
  {
   "cell_type": "markdown",
   "metadata": {},
   "source": [
    "### Default values\n",
    "Not the same as slot values"
   ]
  },
  {
   "cell_type": "markdown",
   "metadata": {},
   "source": []
  },
  {
   "cell_type": "markdown",
   "metadata": {},
   "source": []
  },
  {
   "cell_type": "markdown",
   "metadata": {},
   "source": []
  },
  {
   "cell_type": "markdown",
   "metadata": {},
   "source": [
    "## Step 6. Define the facets of the slots\n",
    "(restrictions on properties)\n",
    "* Slot cardinality\n",
    "    * min\n",
    "    * max\n",
    "* Slot-value type\n",
    "    * String\n",
    "    * Number\n",
    "    * Boolean\n",
    "    * Enumerator (In Protégé-2000 the enumerated slots are of type Symbol)\n",
    "    * Instance type\n",
    "* Domain and range of a slot"
   ]
  },
  {
   "cell_type": "markdown",
   "metadata": {},
   "source": []
  },
  {
   "cell_type": "markdown",
   "metadata": {},
   "source": [
    "## Step 7. Create instances"
   ]
  },
  {
   "cell_type": "markdown",
   "metadata": {},
   "source": []
  },
  {
   "cell_type": "markdown",
   "metadata": {},
   "source": [
    "## Naming conventions\n",
    "Define a naming convention for classes and slots and adhere to it.\n",
    "* Capitalization and delimiters\n",
    "* Singular or plural\n",
    "* Prefix and suffix conventions"
   ]
  },
  {
   "cell_type": "markdown",
   "metadata": {},
   "source": [
    "## Evaluate and debug \n",
    "* by using it in applications or problem-solving methods \n",
    "* by discussing it with experts in the field"
   ]
  },
  {
   "cell_type": "markdown",
   "metadata": {},
   "source": [
    "# Tools\n",
    "* Protege for designing ontology\n",
    "* Chimaera (McGuinness et al. 2000) provides diagnostic tools for analyzing ontologies."
   ]
  },
  {
   "cell_type": "markdown",
   "metadata": {},
   "source": [
    "# DISCUSSION"
   ]
  },
  {
   "cell_type": "markdown",
   "metadata": {},
   "source": [
    "* What the difference between an instance and an actual datapoint in the KB?"
   ]
  },
  {
   "cell_type": "code",
   "execution_count": null,
   "metadata": {},
   "outputs": [],
   "source": []
  }
 ],
 "metadata": {
  "kernelspec": {
   "display_name": "Python 3",
   "language": "python",
   "name": "python3"
  },
  "language_info": {
   "codemirror_mode": {
    "name": "ipython",
    "version": 3
   },
   "file_extension": ".py",
   "mimetype": "text/x-python",
   "name": "python",
   "nbconvert_exporter": "python",
   "pygments_lexer": "ipython3",
   "version": "3.7.3"
  }
 },
 "nbformat": 4,
 "nbformat_minor": 4
}
