{
 "cells": [
  {
   "cell_type": "markdown",
   "metadata": {},
   "source": [
    "# A proposal for a Unified Process for Ontology building: UPON\n",
    "Antonio De Nicola*, Michele Missikoff*, Roberto Navigli**"
   ]
  },
  {
   "cell_type": "markdown",
   "metadata": {},
   "source": [
    "<img src=\"UPON.png\">"
   ]
  },
  {
   "cell_type": "markdown",
   "metadata": {},
   "source": [
    "## Requirements Workflow\n",
    "The first goal is the identification of the objec-tives of the ontology users. To this end, it is necessary to: \n",
    "1. determining the domain of interest and the scope, and \n",
    "2. defining the purpose. These objectives are achieved by: \n",
    "3. writing a storyboard, \n",
    "4. creating an application lexicon, \n",
    "    * automatic tools to extract knowledge from documents, such as OntoLearn (Navigli and Velardi, 2004)\n",
    "5. identifying the competency questions, and (vi) the related use cases.\n",
    "    * Competency questions are questions an ontology must be able to answer (Gruninger and Fox, 1995). They are identified through interviews with domain experts, brainstorming, an analysis of the document base concerning the domain, etc.\n",
    "    \n",
    "The outcome of the Requirements Workflow is a set of documents, including those resulting from the above steps, to be extended during subsequent iterations."
   ]
  },
  {
   "cell_type": "markdown",
   "metadata": {},
   "source": [
    "## Ananlysis Workflow\n",
    "* Considering reuse of existing resources: identification of relevant terms (domain lexicon).\n",
    "    * A statistical analysis was done in a corpus of documents of reference to identify frequently used terms to be included in the domain lexicon.\n",
    "* Modelling the application scenario using UML diagrams.\n",
    "* Building the glossary\n",
    "    * domain experts should agree on the definition of concepts. It is very important that the concepts are defined according to precise refer-ences or mentioning the author of that definition.\n"
   ]
  },
  {
   "cell_type": "markdown",
   "metadata": {},
   "source": [
    "## The Design Workflow\n",
    "The refinement of entities, actors and processes identified in the analysis workflow, as well as the identification of their relationships, is performed during the design workflow. The design of the ontology follows the OPAL methodology (Missikoff and Taglino, 2002).\n",
    "\n",
    "* Categorising the concepts according to the OPAL methodology (Actor, Process, Object).\n",
    "* Refining the concepts and their relations.\n",
    "    * top-down\n",
    "    * bottom-up\n",
    "    * middle-out (combination) - This approach is considered to be the most effective because con-cepts “in the middle” tend to be more informative about the domain.\n"
   ]
  },
  {
   "cell_type": "markdown",
   "metadata": {},
   "source": [
    "## The Implementation Workflow\n",
    "Formalize the ontology in a language like OWL"
   ]
  },
  {
   "cell_type": "markdown",
   "metadata": {},
   "source": [
    "## The Test Workflow\n",
    "1. the coverage of the ontology over the application domain.\n",
    "2. competency questions and the possibility to answer them by using concepts in the ontology."
   ]
  },
  {
   "cell_type": "markdown",
   "metadata": {},
   "source": [
    "# PRIOR WORK\n",
    "A complete overview of ontology building methods is provided by Corcho et al. (2003)."
   ]
  },
  {
   "cell_type": "markdown",
   "metadata": {},
   "source": []
  }
 ],
 "metadata": {
  "kernelspec": {
   "display_name": "Python 3",
   "language": "python",
   "name": "python3"
  },
  "language_info": {
   "codemirror_mode": {
    "name": "ipython",
    "version": 3
   },
   "file_extension": ".py",
   "mimetype": "text/x-python",
   "name": "python",
   "nbconvert_exporter": "python",
   "pygments_lexer": "ipython3",
   "version": "3.7.3"
  }
 },
 "nbformat": 4,
 "nbformat_minor": 4
}
