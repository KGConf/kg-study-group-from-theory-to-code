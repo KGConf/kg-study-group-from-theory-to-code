{
 "cells": [
  {
   "cell_type": "markdown",
   "metadata": {},
   "source": [
    "# Week 4 - Exercises"
   ]
  },
  {
   "cell_type": "markdown",
   "metadata": {},
   "source": [
    "* 4.1 A Brief History of Ontologies\n",
    "* 4.2 Why we do need Logic\n",
    "* Excursion 4: A Brief Recap of Essential Logics\n",
    "* Excursion 5: Description Logics\n",
    "* 4.3 First Steps in OWL\n",
    "* 4.4 More OWL\n",
    "* 4.5 OWL and Beyond\n",
    "* 4.6 How to Design your own Ontology"
   ]
  },
  {
   "cell_type": "markdown",
   "metadata": {},
   "source": [
    "## 4.3 First steps in OWL\n",
    "### OWL2 - a language for describing *sets* of things. These *sets* are called *classes*.\n",
    "* *individual* (rather than *instance*) - member of a class\n",
    "* *assertion* - a statement about the type of a resource\n",
    "    * `:roger_federer rdf:type :Person .` is a *class assertion*\n",
    "* *expression* - when we combine classes properties and instances\n",
    "    * `_:x rdf:type owl:Class; owl:unionOf (:Man :Woman)`\n",
    "* *axiom* - sometimes called *restrictions*, as they constrain the set of individuals that can be a member of a class.\n",
    "    * <pre>\n",
    "        :Person owl:equivalentClass _:x .\n",
    "        _:x rdf:type owl:Class;\n",
    "            owl:unionOf (:Man :Woman) .\n",
    "        </pre>"
   ]
  },
  {
   "cell_type": "markdown",
   "metadata": {},
   "source": [
    "### OWL2 Syntaxes\n",
    "* Functional Style\n",
    "* OWL/XML\n",
    "* Manchester (protege)\n",
    "* Turtle (all RDF syntaxes can be used for OWL)"
   ]
  },
  {
   "cell_type": "code",
   "execution_count": null,
   "metadata": {},
   "outputs": [],
   "source": []
  },
  {
   "cell_type": "markdown",
   "metadata": {},
   "source": [
    "## 4.4 More OWL"
   ]
  },
  {
   "cell_type": "code",
   "execution_count": null,
   "metadata": {},
   "outputs": [],
   "source": []
  },
  {
   "cell_type": "code",
   "execution_count": null,
   "metadata": {},
   "outputs": [],
   "source": []
  },
  {
   "cell_type": "markdown",
   "metadata": {},
   "source": [
    "## 4.5 OWL and Beyond"
   ]
  },
  {
   "cell_type": "code",
   "execution_count": null,
   "metadata": {},
   "outputs": [],
   "source": []
  },
  {
   "cell_type": "code",
   "execution_count": null,
   "metadata": {},
   "outputs": [],
   "source": []
  },
  {
   "cell_type": "code",
   "execution_count": null,
   "metadata": {},
   "outputs": [],
   "source": []
  },
  {
   "cell_type": "code",
   "execution_count": null,
   "metadata": {},
   "outputs": [],
   "source": []
  },
  {
   "cell_type": "code",
   "execution_count": null,
   "metadata": {},
   "outputs": [],
   "source": []
  },
  {
   "cell_type": "code",
   "execution_count": null,
   "metadata": {},
   "outputs": [],
   "source": []
  },
  {
   "cell_type": "markdown",
   "metadata": {},
   "source": [
    "Property chains"
   ]
  },
  {
   "cell_type": "markdown",
   "metadata": {},
   "source": [
    "what's the difference between owl:equivalenceClass and owl:sameAs ?"
   ]
  },
  {
   "cell_type": "markdown",
   "metadata": {},
   "source": [
    "Necessary and sufficient conditions"
   ]
  },
  {
   "cell_type": "code",
   "execution_count": null,
   "metadata": {},
   "outputs": [],
   "source": []
  }
 ],
 "metadata": {
  "kernelspec": {
   "display_name": "Python 3",
   "language": "python",
   "name": "python3"
  },
  "language_info": {
   "codemirror_mode": {
    "name": "ipython",
    "version": 3
   },
   "file_extension": ".py",
   "mimetype": "text/x-python",
   "name": "python",
   "nbconvert_exporter": "python",
   "pygments_lexer": "ipython3",
   "version": "3.7.3"
  }
 },
 "nbformat": 4,
 "nbformat_minor": 4
}
