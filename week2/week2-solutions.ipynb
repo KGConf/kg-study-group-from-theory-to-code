{
 "cells": [
  {
   "cell_type": "markdown",
   "metadata": {},
   "source": [
    "# Week 2 Exercises\n",
    "## Basic Semantic Technologies\n",
    "* 2.1 How to Identify and Access Things\n",
    "* 2.2 How to Represent Simple Facts with RDF\n",
    "* 2.3 RDF Turtle Serialization\n",
    "* 2.4 RDF Complex Data Structures\n",
    "* 2.5 Model Building with RDFS\n",
    "* 2.6 Logical Inference with RDF(S)\n",
    "* Excursion 1: RDFa - RDF and the We"
   ]
  },
  {
   "cell_type": "markdown",
   "metadata": {},
   "source": [
    "## RDF(S) - Resourse Description Framework (Schema):\n",
    "* Individuals (Entities) - *subject or object URI, ex: `<http://dbpedia.org/resource/Greenhouse_effect>`*\n",
    "* Classes - *a category URI, ex: `<http://dbpedia.org/category/Athmosphere>`*\n",
    "* Properties - *predicate URI, ex: `<http://dbpedia.org/ontology/birthdate>`*\n",
    "* Literals - *objects like: `“47.798599”^^xsd:float`*\n",
    "    * and untyped literals - like `\"helloworld\"`\n",
    "* Vocabularies / Ontologies - *a set containing URIs and literals, ex: `http://www.w3.org/2003/01/geo/wgs84_pos`*\n",
    "* __URIs__ identify and reference resources uniquely.\n",
    "* __Literals__ describe data values that don’t have a separate existence.\n",
    "\n",
    "See slides for details."
   ]
  },
  {
   "cell_type": "markdown",
   "metadata": {},
   "source": [
    "## Import modules and libraries"
   ]
  },
  {
   "cell_type": "code",
   "execution_count": 29,
   "metadata": {},
   "outputs": [],
   "source": [
    "import pandas as pd\n",
    "import networkx as nx\n",
    "from graphviz import Digraph\n",
    "import matplotlib.pyplot as plt\n",
    "%matplotlib inline"
   ]
  },
  {
   "cell_type": "markdown",
   "metadata": {},
   "source": [
    "## 2.1 How to access things"
   ]
  },
  {
   "cell_type": "code",
   "execution_count": 7,
   "metadata": {},
   "outputs": [],
   "source": [
    "!curl -L -H \"Accept: text/html\" http://dbpedia.org/resource/Earth"
   ]
  },
  {
   "cell_type": "code",
   "execution_count": 8,
   "metadata": {},
   "outputs": [],
   "source": [
    "!curl -L -H \"Accept: application/rdf+xml\" http://dbpedia.org/resource/Earth"
   ]
  },
  {
   "cell_type": "markdown",
   "metadata": {},
   "source": [
    "### Question 1\n",
    "Select the correct statement(s) about the designatum.\n",
    "\n",
    "* [ ] The designatum designates a webpage.\n",
    "* [x] The designatum is a resource.\n",
    "* [x] The designatum is described by the designator.\n",
    "* [ ] The designatum is a representation of a resource."
   ]
  },
  {
   "cell_type": "markdown",
   "metadata": {},
   "source": [
    "### Question 2\n",
    "What is a URI?\n",
    "\n",
    "* [ ] A schema to identify what exists on the web.\n",
    "* [x] An identifier for a designatum.\n",
    "* [ ] An identifier only for digital objects.\n",
    "* [x] An extension of the URL concept.\n",
    "* [ ] The acronym for Universal Resource Identifier.\n",
    "* [x] A schema for identification of abstract or physical resources."
   ]
  },
  {
   "cell_type": "markdown",
   "metadata": {},
   "source": [
    "### Question 3\n",
    "What is HTTP content negotiation?\n",
    "\n",
    "* [x] A mechanism to serve multiple representations at the same place.\n",
    "* [ ] A mechanism to store a designator at the same place as the designatum.\n",
    "* [ ] A mechanism to always serve the same representation at multiple places."
   ]
  },
  {
   "cell_type": "markdown",
   "metadata": {},
   "source": [
    "### Question 4\n",
    "Which request(s) would cause the server to respond with `HTTP/2 303 See Other Location: http://dbpedia.org/data/Joseph_Fourier` ?\n",
    "\n",
    "* [ ] `HTTP GET http://dbpedia.org/resource/Earth \"Accept: image/jpg\"`\n",
    "* [x] `HTTP POST http://dbpedia.org/resource/Joseph_Fourier Accept Header: application/rdf+xml`\n",
    "* [x] `HTTP GET http://dbpedia.org/resource/Joseph_Fourier Accept Header: application/rdf+xml`\n",
    "* [ ] `HTTP GET http://dbpedia.org/resource/Joseph_Fourier Accept Header: text/*`"
   ]
  },
  {
   "cell_type": "markdown",
   "metadata": {},
   "source": [
    "## 2.2 How to Represent simple Facts with RDF"
   ]
  },
  {
   "cell_type": "code",
   "execution_count": 11,
   "metadata": {},
   "outputs": [],
   "source": [
    "fact=\"The Greenhouse Effect has been discovered in 1824\""
   ]
  },
  {
   "cell_type": "markdown",
   "metadata": {},
   "source": [
    "`subject   predicate   object`"
   ]
  },
  {
   "cell_type": "code",
   "execution_count": 11,
   "metadata": {},
   "outputs": [],
   "source": [
    "subject_=\"Greenhouse Effect\"\n",
    "predicate_=\"has been discovered in\"\n",
    "object_=\"1824\""
   ]
  },
  {
   "cell_type": "code",
   "execution_count": 123,
   "metadata": {},
   "outputs": [],
   "source": [
    "#!pip install pygraphviz\n",
    "#https://graphviz.readthedocs.io/en/stable/manual.html\n",
    "\n",
    "# also see this example for making a netwrokx graph and converting DOT: \n",
    "#.  https://stackoverflow.com/questions/40092390/network-graph-is-not-visually-optimized-in-networkx\n",
    "#.  https://pygraphviz.github.io/documentation/latest/tutorial.html#layout-and-drawing"
   ]
  },
  {
   "cell_type": "code",
   "execution_count": 150,
   "metadata": {},
   "outputs": [
    {
     "data": {
      "image/svg+xml": [
       "<?xml version=\"1.0\" encoding=\"UTF-8\" standalone=\"no\"?>\n",
       "<!DOCTYPE svg PUBLIC \"-//W3C//DTD SVG 1.1//EN\"\n",
       " \"http://www.w3.org/Graphics/SVG/1.1/DTD/svg11.dtd\">\n",
       "<!-- Generated by graphviz version 2.40.1 (20161225.0304)\n",
       " -->\n",
       "<!-- Title: %3 Pages: 1 -->\n",
       "<svg width=\"215pt\" height=\"131pt\"\n",
       " viewBox=\"0.00 0.00 214.64 131.00\" xmlns=\"http://www.w3.org/2000/svg\" xmlns:xlink=\"http://www.w3.org/1999/xlink\">\n",
       "<g id=\"graph0\" class=\"graph\" transform=\"scale(1 1) rotate(0) translate(4 127)\">\n",
       "<title>%3</title>\n",
       "<polygon fill=\"#ffffff\" stroke=\"transparent\" points=\"-4,4 -4,-127 210.643,-127 210.643,4 -4,4\"/>\n",
       "<!-- A -->\n",
       "<g id=\"node1\" class=\"node\">\n",
       "<title>A</title>\n",
       "<ellipse fill=\"none\" stroke=\"#000000\" cx=\"78.643\" cy=\"-105\" rx=\"78.7863\" ry=\"18\"/>\n",
       "<text text-anchor=\"middle\" x=\"78.643\" y=\"-101.3\" font-family=\"Times,serif\" font-size=\"14.00\" fill=\"#000000\">Greenhouse Effect</text>\n",
       "</g>\n",
       "<!-- B -->\n",
       "<g id=\"node2\" class=\"node\">\n",
       "<title>B</title>\n",
       "<polygon fill=\"none\" stroke=\"#000000\" points=\"105.643,-36 51.643,-36 51.643,0 105.643,0 105.643,-36\"/>\n",
       "<text text-anchor=\"middle\" x=\"78.643\" y=\"-14.3\" font-family=\"Times,serif\" font-size=\"14.00\" fill=\"#000000\">1824</text>\n",
       "</g>\n",
       "<!-- A&#45;&gt;B -->\n",
       "<g id=\"edge1\" class=\"edge\">\n",
       "<title>A&#45;&gt;B</title>\n",
       "<path fill=\"none\" stroke=\"#000000\" d=\"M78.643,-86.9735C78.643,-75.1918 78.643,-59.5607 78.643,-46.1581\"/>\n",
       "<polygon fill=\"#000000\" stroke=\"#000000\" points=\"82.1431,-46.0033 78.643,-36.0034 75.1431,-46.0034 82.1431,-46.0033\"/>\n",
       "<text text-anchor=\"middle\" x=\"142.643\" y=\"-57.8\" font-family=\"Times,serif\" font-size=\"14.00\" fill=\"#000000\">has been discovered in</text>\n",
       "</g>\n",
       "</g>\n",
       "</svg>\n"
      ],
      "text/plain": [
       "<graphviz.dot.Digraph at 0x7ff8c9294518>"
      ]
     },
     "execution_count": 150,
     "metadata": {},
     "output_type": "execute_result"
    }
   ],
   "source": [
    "g = Digraph()\n",
    "g.attr('node', shape='oval')\n",
    "g.node('A', subject_)\n",
    "g.attr('node', shape='rectangle')\n",
    "g.node('B', object_)\n",
    "\n",
    "g.edge('A', 'B', label=predicate_)\n",
    "\n",
    "\n",
    "g"
   ]
  },
  {
   "cell_type": "markdown",
   "metadata": {},
   "source": [
    "### N-triples serialization\n",
    "(predicate == property)\n",
    "\n",
    "`subject [URI]   property [URI]   object [URI | literal] .`\n",
    "\n",
    "Example:\n",
    "`<http://dbpedia.org/resource/Greenhouse_effect> <http://dbpedia.org/ontology/discoveredIn> “1824” .`"
   ]
  },
  {
   "cell_type": "markdown",
   "metadata": {},
   "source": [
    "### 2.2 RDF Triples examples:"
   ]
  },
  {
   "cell_type": "markdown",
   "metadata": {},
   "source": [
    "```\n",
    "<http://dbpedia.org/resource/Greenhouse_effect> <http://dbpedia.org/ontology/discoveredIn> “1824” .\n",
    "<http://dbpedia.org/resource/Greenhouse_effect> <http://dbpedia.org/ontology/discoverer> <http://dbpedia.org/resource/Joseph_Fourier> .\n",
    "<http://dbpedia.org/resource/Greenhouse_effect> <http://purl.org/dc/terms/subject> <http://dbpedia.org/category/Climate_change> .\n",
    "<http://dbpedia.org/resource/Greenhouse_effect> <http://purl.org/dc/terms/subject> <http://dbpedia.org/category/Athmosphere> .\n",
    " \n",
    "<http://dbpedia.org/resource/Joseph_Fourier> <http://dbpedia.org/ontology/birthdate> “1768-03-21” .\n",
    "<http://dbpedia.org/resource/Joseph_Fourier> <http://dbpedia.org/ontology/birthplace> <http://dbpedia.org/resource/Auxerre> .\n",
    "<http://dbpedia.org/resource/Joseph_Fourier> <http://dbpedia.org/ontology/field> <http://dbpedia.org/resource/Physicist> .\n",
    " \n",
    "<http://dbpedia.org/resource/Auxerre> <http://dbpedia.org/ontology/country> <http://dbpedia.org/resource/France> .\n",
    "<http://dbpedia.org/resource/Auxerre> <http://www.w3.org/2003/01/geo/wgs84_pos#lat> “47.798599”^^xsd:float .\n",
    "<http://dbpedia.org/resource/Auxerre> <http://www.w3.org/2003/01/geo/wgs84_pos#long> “3.567200”^^xsd:float .\n",
    "```"
   ]
  },
  {
   "cell_type": "markdown",
   "metadata": {},
   "source": [
    "## 2.3 Turtle (Terse RDF Triple Language) Serialization\n",
    "Provides shortcuts for making RDF easier to read.\n",
    "* `@prefix` directive associates prefix-label with URI\n",
    "* `@base` directive provides URI to complement all relative URIs\n",
    "* `;` separates subject from property & object \n",
    "* `,` separates subject & property from object\n",
    "\n",
    "\n",
    "Example in Turtle:\n",
    "```\n",
    "@prefix book: <http://semantic-web-book.org/> . \n",
    "@prefix ex: <http://example.org/> . \n",
    "@prefix crc: <http://crcpress.com/> .\n",
    "book:uri ex:publishedBy crc:uri . \n",
    "book:uri ex:title \"Foundations of Semantic Web Technologies\" . \n",
    "crc:uri ex:name \"CRC Press\" .\n",
    "```"
   ]
  },
  {
   "cell_type": "markdown",
   "metadata": {},
   "source": [
    "### 2.3:Q1 Exercise: \n",
    "Rewite the N-triples in __2.2 RDF Examples__ using Turtle syntax, in the most compact way.   Use a validator to make sure your code is syntactically valid.   \n",
    "\n",
    "* http://librdf.org/parse"
   ]
  },
  {
   "cell_type": "markdown",
   "metadata": {},
   "source": [
    "```\n",
    "@prefix dbr: <http://dbpedia.org/resource/> .\n",
    "@prefix dbo: <http://dbpedia.org/ontology/> .\n",
    "@prefix dbc: <http://dbpedia.org/category/> .\n",
    "@prefix pt:  <http://purl.org/dc/terms> .         \n",
    "@prefix geo: <http://www.w3.org/2003/01/geo/wgs84_pos#> .\n",
    "@prefix xsd: <http://www.w3.org/2001/XMLSchema#> .\n",
    "        \n",
    "        \n",
    "dbr:Greenhouse_effect dbo:discoveredIn \"1824\" ;\n",
    "                    dbo:discoverer dbr:Joseph_Fourier ;\n",
    "                    pt:subject dbc:Climate_change ,\n",
    "                               dbc:Athmosphere .\n",
    "\n",
    "dbr:Joseph_Fourier dbo:birthdate \"1768-03-21\"^^xsd:date ;\n",
    "                    dbo:birthplace dbr:Auxerre ;\n",
    "                    dbo:field dbr:Physicist .\n",
    "\n",
    "dbr:Auxerre dbo:country dbr:France ;\n",
    "                    geo:lat \"47.798599\"^^xsd:float ;\n",
    "                    geo:long \"3.567200\"^^xsd:float .\n",
    "```"
   ]
  },
  {
   "cell_type": "markdown",
   "metadata": {},
   "source": [
    "### Turtle Parsing Results"
   ]
  },
  {
   "cell_type": "code",
   "execution_count": 78,
   "metadata": {},
   "outputs": [
    {
     "data": {
      "text/html": [
       "<div>\n",
       "<style scoped>\n",
       "    .dataframe tbody tr th:only-of-type {\n",
       "        vertical-align: middle;\n",
       "    }\n",
       "\n",
       "    .dataframe tbody tr th {\n",
       "        vertical-align: top;\n",
       "    }\n",
       "\n",
       "    .dataframe thead th {\n",
       "        text-align: right;\n",
       "    }\n",
       "</style>\n",
       "<table border=\"1\" class=\"dataframe\">\n",
       "  <thead>\n",
       "    <tr style=\"text-align: right;\">\n",
       "      <th></th>\n",
       "      <th>Subject</th>\n",
       "      <th>Predicate</th>\n",
       "      <th>Object</th>\n",
       "    </tr>\n",
       "  </thead>\n",
       "  <tbody>\n",
       "    <tr>\n",
       "      <th>0</th>\n",
       "      <td>http://dbpedia.org/resource/Auxerre</td>\n",
       "      <td>http://www.w3.org/2003/01/geo/wgs84_pos#long</td>\n",
       "      <td>3.567200^^&lt;http://www.w3.org/2001/XMLSchema#fl...</td>\n",
       "    </tr>\n",
       "    <tr>\n",
       "      <th>1</th>\n",
       "      <td>http://dbpedia.org/resource/Auxerre</td>\n",
       "      <td>http://www.w3.org/2003/01/geo/wgs84_pos#lat</td>\n",
       "      <td>47.798599^^&lt;http://www.w3.org/2001/XMLSchema#f...</td>\n",
       "    </tr>\n",
       "    <tr>\n",
       "      <th>2</th>\n",
       "      <td>http://dbpedia.org/resource/Auxerre</td>\n",
       "      <td>http://dbpedia.org/ontology/country</td>\n",
       "      <td>http://dbpedia.org/resource/France</td>\n",
       "    </tr>\n",
       "    <tr>\n",
       "      <th>3</th>\n",
       "      <td>http://dbpedia.org/resource/Joseph_Fourier</td>\n",
       "      <td>http://dbpedia.org/ontology/field</td>\n",
       "      <td>http://dbpedia.org/resource/Physicist</td>\n",
       "    </tr>\n",
       "    <tr>\n",
       "      <th>4</th>\n",
       "      <td>http://dbpedia.org/resource/Joseph_Fourier</td>\n",
       "      <td>http://dbpedia.org/ontology/birthplace</td>\n",
       "      <td>http://dbpedia.org/resource/Auxerre</td>\n",
       "    </tr>\n",
       "    <tr>\n",
       "      <th>5</th>\n",
       "      <td>http://dbpedia.org/resource/Joseph_Fourier</td>\n",
       "      <td>http://dbpedia.org/ontology/birthdate</td>\n",
       "      <td>1768-03-21^^&lt;http://www.w3.org/2001/XMLSchema#...</td>\n",
       "    </tr>\n",
       "    <tr>\n",
       "      <th>6</th>\n",
       "      <td>http://dbpedia.org/resource/Greenhouse_effect</td>\n",
       "      <td>http://purl.org/dc/termssubject</td>\n",
       "      <td>http://dbpedia.org/category/Athmosphere</td>\n",
       "    </tr>\n",
       "    <tr>\n",
       "      <th>7</th>\n",
       "      <td>http://dbpedia.org/resource/Greenhouse_effect</td>\n",
       "      <td>http://purl.org/dc/termssubject</td>\n",
       "      <td>http://dbpedia.org/category/Climate_change</td>\n",
       "    </tr>\n",
       "    <tr>\n",
       "      <th>8</th>\n",
       "      <td>http://dbpedia.org/resource/Greenhouse_effect</td>\n",
       "      <td>http://dbpedia.org/ontology/discoverer</td>\n",
       "      <td>http://dbpedia.org/resource/Joseph_Fourier</td>\n",
       "    </tr>\n",
       "    <tr>\n",
       "      <th>9</th>\n",
       "      <td>http://dbpedia.org/resource/Greenhouse_effect</td>\n",
       "      <td>http://dbpedia.org/ontology/discoveredIn</td>\n",
       "      <td>1824</td>\n",
       "    </tr>\n",
       "  </tbody>\n",
       "</table>\n",
       "</div>"
      ],
      "text/plain": [
       "                                         Subject  \\\n",
       "0            http://dbpedia.org/resource/Auxerre   \n",
       "1            http://dbpedia.org/resource/Auxerre   \n",
       "2            http://dbpedia.org/resource/Auxerre   \n",
       "3     http://dbpedia.org/resource/Joseph_Fourier   \n",
       "4     http://dbpedia.org/resource/Joseph_Fourier   \n",
       "5     http://dbpedia.org/resource/Joseph_Fourier   \n",
       "6  http://dbpedia.org/resource/Greenhouse_effect   \n",
       "7  http://dbpedia.org/resource/Greenhouse_effect   \n",
       "8  http://dbpedia.org/resource/Greenhouse_effect   \n",
       "9  http://dbpedia.org/resource/Greenhouse_effect   \n",
       "\n",
       "                                      Predicate  \\\n",
       "0  http://www.w3.org/2003/01/geo/wgs84_pos#long   \n",
       "1   http://www.w3.org/2003/01/geo/wgs84_pos#lat   \n",
       "2           http://dbpedia.org/ontology/country   \n",
       "3             http://dbpedia.org/ontology/field   \n",
       "4        http://dbpedia.org/ontology/birthplace   \n",
       "5         http://dbpedia.org/ontology/birthdate   \n",
       "6               http://purl.org/dc/termssubject   \n",
       "7               http://purl.org/dc/termssubject   \n",
       "8        http://dbpedia.org/ontology/discoverer   \n",
       "9      http://dbpedia.org/ontology/discoveredIn   \n",
       "\n",
       "                                              Object  \n",
       "0  3.567200^^<http://www.w3.org/2001/XMLSchema#fl...  \n",
       "1  47.798599^^<http://www.w3.org/2001/XMLSchema#f...  \n",
       "2                 http://dbpedia.org/resource/France  \n",
       "3              http://dbpedia.org/resource/Physicist  \n",
       "4                http://dbpedia.org/resource/Auxerre  \n",
       "5  1768-03-21^^<http://www.w3.org/2001/XMLSchema#...  \n",
       "6            http://dbpedia.org/category/Athmosphere  \n",
       "7         http://dbpedia.org/category/Climate_change  \n",
       "8         http://dbpedia.org/resource/Joseph_Fourier  \n",
       "9                                               1824  "
      ]
     },
     "execution_count": 78,
     "metadata": {},
     "output_type": "execute_result"
    }
   ],
   "source": [
    "# go to http://librdf.org/parse,\n",
    "# paste the solution above, \n",
    "# copy the result table to clipboard\n",
    "pd.read_clipboard()"
   ]
  },
  {
   "cell_type": "markdown",
   "metadata": {},
   "source": [
    "### 2.3:Q2 Exercise: \n",
    "Multivalued relations can be defined using blank nodes `[]`. Blank nodes do not have any URI and are not accessible from outside. \n",
    "\n",
    "Write a Turtle definition for the following recipe (book fig. 2.7):   \n",
    "Chutney has the ingredients:\n",
    "* mango, 1lb\n",
    "* cayene pepper, 1tsp\n",
    "    \n",
    "*HINT: it might be helpful to draw a diagram first, see slides 2.3 p.15*"
   ]
  },
  {
   "cell_type": "code",
   "execution_count": 122,
   "metadata": {},
   "outputs": [],
   "source": [
    "from graphviz import Digraph\n",
    "\n",
    "g = Digraph()\n",
    "g.graph_attr['rankdir'] = 'LR'\n",
    "g.attr('node', shape='oval')\n",
    "g.node('A', 'Chutney')\n",
    "g.node('B','')\n",
    "g.node('C','')\n",
    "g.node('D','Mango')\n",
    "g.node('E', 'Cayenne pepper')\n",
    "g.attr('node', shape='rectangle')\n",
    "g.node('F', '1lb')\n",
    "g.node('G','1tsp')\n",
    "\n",
    "g.edge('A', 'B', label='hasIngredient')\n",
    "g.edge('A', 'C', label='hasIngredient')\n",
    "\n",
    "g.edge('B', 'D', label='ingredient')\n",
    "g.edge('B', 'F', label='amount')\n",
    "\n",
    "g.edge('C', 'E', label='ingredient')\n",
    "g.edge('C', 'G', label='amount')"
   ]
  },
  {
   "cell_type": "code",
   "execution_count": 127,
   "metadata": {},
   "outputs": [
    {
     "data": {
      "image/svg+xml": [
       "<?xml version=\"1.0\" encoding=\"UTF-8\" standalone=\"no\"?>\n",
       "<!DOCTYPE svg PUBLIC \"-//W3C//DTD SVG 1.1//EN\"\n",
       " \"http://www.w3.org/Graphics/SVG/1.1/DTD/svg11.dtd\">\n",
       "<!-- Generated by graphviz version 2.40.1 (20161225.0304)\n",
       " -->\n",
       "<!-- Title: %3 Pages: 1 -->\n",
       "<svg width=\"490pt\" height=\"206pt\"\n",
       " viewBox=\"0.00 0.00 490.28 206.00\" xmlns=\"http://www.w3.org/2000/svg\" xmlns:xlink=\"http://www.w3.org/1999/xlink\">\n",
       "<g id=\"graph0\" class=\"graph\" transform=\"scale(1 1) rotate(0) translate(4 202)\">\n",
       "<title>%3</title>\n",
       "<polygon fill=\"#ffffff\" stroke=\"transparent\" points=\"-4,4 -4,-202 486.2803,-202 486.2803,4 -4,4\"/>\n",
       "<!-- A -->\n",
       "<g id=\"node1\" class=\"node\">\n",
       "<title>A</title>\n",
       "<ellipse fill=\"none\" stroke=\"#000000\" cx=\"41.5963\" cy=\"-99\" rx=\"41.6928\" ry=\"18\"/>\n",
       "<text text-anchor=\"middle\" x=\"41.5963\" y=\"-95.3\" font-family=\"Times,serif\" font-size=\"14.00\" fill=\"#000000\">Chutney</text>\n",
       "</g>\n",
       "<!-- B -->\n",
       "<g id=\"node2\" class=\"node\">\n",
       "<title>B</title>\n",
       "<ellipse fill=\"none\" stroke=\"#000000\" cx=\"223.1926\" cy=\"-126\" rx=\"27\" ry=\"18\"/>\n",
       "</g>\n",
       "<!-- A&#45;&gt;B -->\n",
       "<g id=\"edge1\" class=\"edge\">\n",
       "<title>A&#45;&gt;B</title>\n",
       "<path fill=\"none\" stroke=\"#000000\" d=\"M81,-104.8586C112.353,-109.5202 155.8965,-115.9943 186.5134,-120.5465\"/>\n",
       "<polygon fill=\"#000000\" stroke=\"#000000\" points=\"186.3566,-124.0616 196.7627,-122.0704 187.3862,-117.1377 186.3566,-124.0616\"/>\n",
       "<text text-anchor=\"middle\" x=\"139.6926\" y=\"-121.8\" font-family=\"Times,serif\" font-size=\"14.00\" fill=\"#000000\">hasIngredient</text>\n",
       "</g>\n",
       "<!-- C -->\n",
       "<g id=\"node3\" class=\"node\">\n",
       "<title>C</title>\n",
       "<ellipse fill=\"none\" stroke=\"#000000\" cx=\"223.1926\" cy=\"-72\" rx=\"27\" ry=\"18\"/>\n",
       "</g>\n",
       "<!-- A&#45;&gt;C -->\n",
       "<g id=\"edge2\" class=\"edge\">\n",
       "<title>A&#45;&gt;C</title>\n",
       "<path fill=\"none\" stroke=\"#000000\" d=\"M80.3613,-92.3349C87.2927,-91.189 94.4523,-90.0349 101.1926,-89 129.7324,-84.618 162.1042,-80.1294 186.327,-76.8656\"/>\n",
       "<polygon fill=\"#000000\" stroke=\"#000000\" points=\"187.0599,-80.2987 196.5064,-75.5014 186.13,-73.3608 187.0599,-80.2987\"/>\n",
       "<text text-anchor=\"middle\" x=\"139.6926\" y=\"-92.8\" font-family=\"Times,serif\" font-size=\"14.00\" fill=\"#000000\">hasIngredient</text>\n",
       "</g>\n",
       "<!-- D -->\n",
       "<g id=\"node4\" class=\"node\">\n",
       "<title>D</title>\n",
       "<ellipse fill=\"none\" stroke=\"#000000\" cx=\"412.7364\" cy=\"-180\" rx=\"36.2938\" ry=\"18\"/>\n",
       "<text text-anchor=\"middle\" x=\"412.7364\" y=\"-176.3\" font-family=\"Times,serif\" font-size=\"14.00\" fill=\"#000000\">Mango</text>\n",
       "</g>\n",
       "<!-- B&#45;&gt;D -->\n",
       "<g id=\"edge3\" class=\"edge\">\n",
       "<title>B&#45;&gt;D</title>\n",
       "<path fill=\"none\" stroke=\"#000000\" d=\"M245.812,-136.3938C252.8875,-139.4155 260.7832,-142.5566 268.1926,-145 301.4234,-155.9586 339.9783,-165.1232 368.9075,-171.3221\"/>\n",
       "<polygon fill=\"#000000\" stroke=\"#000000\" points=\"368.2073,-174.7514 378.7142,-173.3892 369.6511,-167.9019 368.2073,-174.7514\"/>\n",
       "<text text-anchor=\"middle\" x=\"296.6926\" y=\"-163.8\" font-family=\"Times,serif\" font-size=\"14.00\" fill=\"#000000\">ingredient</text>\n",
       "</g>\n",
       "<!-- F -->\n",
       "<g id=\"node6\" class=\"node\">\n",
       "<title>F</title>\n",
       "<polygon fill=\"none\" stroke=\"#000000\" points=\"439.7364,-144 385.7364,-144 385.7364,-108 439.7364,-108 439.7364,-144\"/>\n",
       "<text text-anchor=\"middle\" x=\"412.7364\" y=\"-122.3\" font-family=\"Times,serif\" font-size=\"14.00\" fill=\"#000000\">1lb</text>\n",
       "</g>\n",
       "<!-- B&#45;&gt;F -->\n",
       "<g id=\"edge4\" class=\"edge\">\n",
       "<title>B&#45;&gt;F</title>\n",
       "<path fill=\"none\" stroke=\"#000000\" d=\"M250.3496,-126C283.1446,-126 338.4789,-126 375.3048,-126\"/>\n",
       "<polygon fill=\"#000000\" stroke=\"#000000\" points=\"375.6298,-129.5001 385.6298,-126 375.6298,-122.5001 375.6298,-129.5001\"/>\n",
       "<text text-anchor=\"middle\" x=\"296.6926\" y=\"-129.8\" font-family=\"Times,serif\" font-size=\"14.00\" fill=\"#000000\">amount</text>\n",
       "</g>\n",
       "<!-- E -->\n",
       "<g id=\"node5\" class=\"node\">\n",
       "<title>E</title>\n",
       "<ellipse fill=\"none\" stroke=\"#000000\" cx=\"412.7364\" cy=\"-72\" rx=\"69.5877\" ry=\"18\"/>\n",
       "<text text-anchor=\"middle\" x=\"412.7364\" y=\"-68.3\" font-family=\"Times,serif\" font-size=\"14.00\" fill=\"#000000\">Cayenne pepper</text>\n",
       "</g>\n",
       "<!-- C&#45;&gt;E -->\n",
       "<g id=\"edge5\" class=\"edge\">\n",
       "<title>C&#45;&gt;E</title>\n",
       "<path fill=\"none\" stroke=\"#000000\" d=\"M250.3496,-72C271.9597,-72 303.3565,-72 332.7956,-72\"/>\n",
       "<polygon fill=\"#000000\" stroke=\"#000000\" points=\"333.1077,-75.5001 343.1076,-72 333.1076,-68.5001 333.1077,-75.5001\"/>\n",
       "<text text-anchor=\"middle\" x=\"296.6926\" y=\"-75.8\" font-family=\"Times,serif\" font-size=\"14.00\" fill=\"#000000\">ingredient</text>\n",
       "</g>\n",
       "<!-- G -->\n",
       "<g id=\"node7\" class=\"node\">\n",
       "<title>G</title>\n",
       "<polygon fill=\"none\" stroke=\"#000000\" points=\"439.7364,-36 385.7364,-36 385.7364,0 439.7364,0 439.7364,-36\"/>\n",
       "<text text-anchor=\"middle\" x=\"412.7364\" y=\"-14.3\" font-family=\"Times,serif\" font-size=\"14.00\" fill=\"#000000\">1tsp</text>\n",
       "</g>\n",
       "<!-- C&#45;&gt;G -->\n",
       "<g id=\"edge6\" class=\"edge\">\n",
       "<title>C&#45;&gt;G</title>\n",
       "<path fill=\"none\" stroke=\"#000000\" d=\"M245.812,-61.6062C252.8875,-58.5845 260.7832,-55.4434 268.1926,-53 304.1653,-41.1372 346.3767,-31.3767 375.8633,-25.2047\"/>\n",
       "<polygon fill=\"#000000\" stroke=\"#000000\" points=\"376.6422,-28.6178 385.7313,-23.1737 375.231,-21.7616 376.6422,-28.6178\"/>\n",
       "<text text-anchor=\"middle\" x=\"296.6926\" y=\"-56.8\" font-family=\"Times,serif\" font-size=\"14.00\" fill=\"#000000\">amount</text>\n",
       "</g>\n",
       "</g>\n",
       "</svg>\n"
      ],
      "text/plain": [
       "<graphviz.dot.Digraph at 0x7ff8c9286da0>"
      ]
     },
     "execution_count": 127,
     "metadata": {},
     "output_type": "execute_result"
    }
   ],
   "source": [
    "g"
   ]
  },
  {
   "cell_type": "markdown",
   "metadata": {},
   "source": [
    "### Turtle syntax"
   ]
  },
  {
   "cell_type": "markdown",
   "metadata": {},
   "source": [
    "```\n",
    "@prefix ex: <http://example.org/> . \n",
    "\n",
    "ex:Chutney ex:hasIngredient [ ex:ingredient ex:Mango; ex:amount \"1lb\" ] ,\n",
    "                            [ ex:ingredient ex:Cayenne_pepper; ex:amount \"1tsp\" ] .\n",
    "\n",
    "```"
   ]
  },
  {
   "cell_type": "markdown",
   "metadata": {},
   "source": [
    "### Turtle Parsing Results"
   ]
  },
  {
   "cell_type": "code",
   "execution_count": 80,
   "metadata": {},
   "outputs": [
    {
     "data": {
      "text/html": [
       "<div>\n",
       "<style scoped>\n",
       "    .dataframe tbody tr th:only-of-type {\n",
       "        vertical-align: middle;\n",
       "    }\n",
       "\n",
       "    .dataframe tbody tr th {\n",
       "        vertical-align: top;\n",
       "    }\n",
       "\n",
       "    .dataframe thead th {\n",
       "        text-align: right;\n",
       "    }\n",
       "</style>\n",
       "<table border=\"1\" class=\"dataframe\">\n",
       "  <thead>\n",
       "    <tr style=\"text-align: right;\">\n",
       "      <th></th>\n",
       "      <th>Subject</th>\n",
       "      <th>Predicate</th>\n",
       "      <th>Object</th>\n",
       "    </tr>\n",
       "  </thead>\n",
       "  <tbody>\n",
       "    <tr>\n",
       "      <th>0</th>\n",
       "      <td>http://example.org/Chutney</td>\n",
       "      <td>http://example.org/hasIngredient</td>\n",
       "      <td>blank node r1615917324r13333r2</td>\n",
       "    </tr>\n",
       "    <tr>\n",
       "      <th>1</th>\n",
       "      <td>http://example.org/Chutney</td>\n",
       "      <td>http://example.org/hasIngredient</td>\n",
       "      <td>blank node r1615917324r13333r1</td>\n",
       "    </tr>\n",
       "    <tr>\n",
       "      <th>2</th>\n",
       "      <td>blank node r1615917324r13333r2</td>\n",
       "      <td>http://example.org/amount</td>\n",
       "      <td>1tsp</td>\n",
       "    </tr>\n",
       "    <tr>\n",
       "      <th>3</th>\n",
       "      <td>blank node r1615917324r13333r2</td>\n",
       "      <td>http://example.org/ingredient</td>\n",
       "      <td>http://example.org/Cayenne_pepper</td>\n",
       "    </tr>\n",
       "    <tr>\n",
       "      <th>4</th>\n",
       "      <td>blank node r1615917324r13333r1</td>\n",
       "      <td>http://example.org/amount</td>\n",
       "      <td>1lb</td>\n",
       "    </tr>\n",
       "    <tr>\n",
       "      <th>5</th>\n",
       "      <td>blank node r1615917324r13333r1</td>\n",
       "      <td>http://example.org/ingredient</td>\n",
       "      <td>http://example.org/Mango</td>\n",
       "    </tr>\n",
       "  </tbody>\n",
       "</table>\n",
       "</div>"
      ],
      "text/plain": [
       "                          Subject                         Predicate  \\\n",
       "0      http://example.org/Chutney  http://example.org/hasIngredient   \n",
       "1      http://example.org/Chutney  http://example.org/hasIngredient   \n",
       "2  blank node r1615917324r13333r2         http://example.org/amount   \n",
       "3  blank node r1615917324r13333r2     http://example.org/ingredient   \n",
       "4  blank node r1615917324r13333r1         http://example.org/amount   \n",
       "5  blank node r1615917324r13333r1     http://example.org/ingredient   \n",
       "\n",
       "                              Object  \n",
       "0     blank node r1615917324r13333r2  \n",
       "1     blank node r1615917324r13333r1  \n",
       "2                               1tsp  \n",
       "3  http://example.org/Cayenne_pepper  \n",
       "4                                1lb  \n",
       "5           http://example.org/Mango  "
      ]
     },
     "execution_count": 80,
     "metadata": {},
     "output_type": "execute_result"
    }
   ],
   "source": [
    "# go to http://librdf.org/parse,\n",
    "# paste the solution above, \n",
    "# copy the result table to clipboard\n",
    "pd.read_clipboard()"
   ]
  },
  {
   "cell_type": "markdown",
   "metadata": {},
   "source": [
    "### 2.3:Q3 Exercise:\n",
    "Write the Turtle syntax which is equivalent to the below illustration. Notice the deferenceable blank nodes have ids which make them easier to reference from within a single graph.\n",
    "\n",
    "<img src=\"ex2.3.png\">\n"
   ]
  },
  {
   "cell_type": "markdown",
   "metadata": {},
   "source": [
    "```\n",
    "@prefix dbp: <http://dbpedia.org/resource/> .\n",
    "@prefix dbo: <http://dbpedia.org/ontology/> .\n",
    "@prefix dbpp: <https://dbpedia.org/property/> .\n",
    "@prefix ex: <http://www.example.com/> .\n",
    "@prefix rdf: <http://www.w3.org/1999/02/22-rdf-syntax-ns#> .\n",
    "@prefix rdfs: <http://www.w3.org/2000/01/rdf-schema#> .\n",
    "        \n",
    "dbp:Walter_White_Breaking_Bad dbpp:portrayer dbp:Brain_Cranson ;\n",
    "                                dbo:series dbp:Breaking_Bad ;\n",
    "                                dbo:spouse dbp:Skyler_White ;\n",
    "                                rdfs:label \"Walter White\"@en ;\n",
    "                                dbo:alias \"Heisenberg\"@en ;\n",
    "                                ex:affiliation _:1, _:2 .\n",
    "                                            \n",
    "                                \n",
    "                            _:1 ex:affiliationPlace ex:Winnebago ;\n",
    "                                        rdf:type ex:DrugDealer .\n",
    "                                    \n",
    "                            _:2 ex:affiliationPlace ex:J._P._Wynne_High_School;\n",
    "                                        rdf:type ex:Teacher .\n",
    "```"
   ]
  },
  {
   "cell_type": "markdown",
   "metadata": {},
   "source": [
    "### Turtle Parsing Results"
   ]
  },
  {
   "cell_type": "code",
   "execution_count": 79,
   "metadata": {},
   "outputs": [
    {
     "data": {
      "text/html": [
       "<div>\n",
       "<style scoped>\n",
       "    .dataframe tbody tr th:only-of-type {\n",
       "        vertical-align: middle;\n",
       "    }\n",
       "\n",
       "    .dataframe tbody tr th {\n",
       "        vertical-align: top;\n",
       "    }\n",
       "\n",
       "    .dataframe thead th {\n",
       "        text-align: right;\n",
       "    }\n",
       "</style>\n",
       "<table border=\"1\" class=\"dataframe\">\n",
       "  <thead>\n",
       "    <tr style=\"text-align: right;\">\n",
       "      <th></th>\n",
       "      <th>Subject</th>\n",
       "      <th>Predicate</th>\n",
       "      <th>Object</th>\n",
       "    </tr>\n",
       "  </thead>\n",
       "  <tbody>\n",
       "    <tr>\n",
       "      <th>0</th>\n",
       "      <td>blank node r1615913820r11014r2</td>\n",
       "      <td>http://www.w3.org/1999/02/22-rdf-syntax-ns#type</td>\n",
       "      <td>http://www.example.com/Teacher</td>\n",
       "    </tr>\n",
       "    <tr>\n",
       "      <th>1</th>\n",
       "      <td>blank node r1615913820r11014r2</td>\n",
       "      <td>http://www.example.com/affiliationPlace</td>\n",
       "      <td>http://www.example.com/J._P._Wynne_High_School</td>\n",
       "    </tr>\n",
       "    <tr>\n",
       "      <th>2</th>\n",
       "      <td>blank node r1615913820r11014r1</td>\n",
       "      <td>http://www.w3.org/1999/02/22-rdf-syntax-ns#type</td>\n",
       "      <td>http://www.example.com/DrugDealer</td>\n",
       "    </tr>\n",
       "    <tr>\n",
       "      <th>3</th>\n",
       "      <td>blank node r1615913820r11014r1</td>\n",
       "      <td>http://www.example.com/affiliationPlace</td>\n",
       "      <td>http://www.example.com/Winnebago</td>\n",
       "    </tr>\n",
       "    <tr>\n",
       "      <th>4</th>\n",
       "      <td>http://dbpedia.org/resource/Walter_White_Break...</td>\n",
       "      <td>http://www.example.com/affiliation</td>\n",
       "      <td>blank node r1615913820r11014r2</td>\n",
       "    </tr>\n",
       "    <tr>\n",
       "      <th>5</th>\n",
       "      <td>http://dbpedia.org/resource/Walter_White_Break...</td>\n",
       "      <td>http://www.example.com/affiliation</td>\n",
       "      <td>blank node r1615913820r11014r1</td>\n",
       "    </tr>\n",
       "    <tr>\n",
       "      <th>6</th>\n",
       "      <td>http://dbpedia.org/resource/Walter_White_Break...</td>\n",
       "      <td>http://dbpedia.org/ontology/alias</td>\n",
       "      <td>Heisenberg@en</td>\n",
       "    </tr>\n",
       "    <tr>\n",
       "      <th>7</th>\n",
       "      <td>http://dbpedia.org/resource/Walter_White_Break...</td>\n",
       "      <td>http://www.w3.org/2000/01/rdf-schema#label</td>\n",
       "      <td>Walter White@en</td>\n",
       "    </tr>\n",
       "    <tr>\n",
       "      <th>8</th>\n",
       "      <td>http://dbpedia.org/resource/Walter_White_Break...</td>\n",
       "      <td>http://dbpedia.org/ontology/spouse</td>\n",
       "      <td>http://dbpedia.org/resource/Skyler_White</td>\n",
       "    </tr>\n",
       "    <tr>\n",
       "      <th>9</th>\n",
       "      <td>http://dbpedia.org/resource/Walter_White_Break...</td>\n",
       "      <td>http://dbpedia.org/ontology/series</td>\n",
       "      <td>http://dbpedia.org/resource/Breaking_Bad</td>\n",
       "    </tr>\n",
       "    <tr>\n",
       "      <th>10</th>\n",
       "      <td>http://dbpedia.org/resource/Walter_White_Break...</td>\n",
       "      <td>https://dbpedia.org/property/portrayer</td>\n",
       "      <td>http://dbpedia.org/resource/Brain_Cranson</td>\n",
       "    </tr>\n",
       "  </tbody>\n",
       "</table>\n",
       "</div>"
      ],
      "text/plain": [
       "                                              Subject  \\\n",
       "0                      blank node r1615913820r11014r2   \n",
       "1                      blank node r1615913820r11014r2   \n",
       "2                      blank node r1615913820r11014r1   \n",
       "3                      blank node r1615913820r11014r1   \n",
       "4   http://dbpedia.org/resource/Walter_White_Break...   \n",
       "5   http://dbpedia.org/resource/Walter_White_Break...   \n",
       "6   http://dbpedia.org/resource/Walter_White_Break...   \n",
       "7   http://dbpedia.org/resource/Walter_White_Break...   \n",
       "8   http://dbpedia.org/resource/Walter_White_Break...   \n",
       "9   http://dbpedia.org/resource/Walter_White_Break...   \n",
       "10  http://dbpedia.org/resource/Walter_White_Break...   \n",
       "\n",
       "                                          Predicate  \\\n",
       "0   http://www.w3.org/1999/02/22-rdf-syntax-ns#type   \n",
       "1           http://www.example.com/affiliationPlace   \n",
       "2   http://www.w3.org/1999/02/22-rdf-syntax-ns#type   \n",
       "3           http://www.example.com/affiliationPlace   \n",
       "4                http://www.example.com/affiliation   \n",
       "5                http://www.example.com/affiliation   \n",
       "6                 http://dbpedia.org/ontology/alias   \n",
       "7        http://www.w3.org/2000/01/rdf-schema#label   \n",
       "8                http://dbpedia.org/ontology/spouse   \n",
       "9                http://dbpedia.org/ontology/series   \n",
       "10           https://dbpedia.org/property/portrayer   \n",
       "\n",
       "                                            Object  \n",
       "0                   http://www.example.com/Teacher  \n",
       "1   http://www.example.com/J._P._Wynne_High_School  \n",
       "2                http://www.example.com/DrugDealer  \n",
       "3                 http://www.example.com/Winnebago  \n",
       "4                   blank node r1615913820r11014r2  \n",
       "5                   blank node r1615913820r11014r1  \n",
       "6                                    Heisenberg@en  \n",
       "7                                  Walter White@en  \n",
       "8         http://dbpedia.org/resource/Skyler_White  \n",
       "9         http://dbpedia.org/resource/Breaking_Bad  \n",
       "10       http://dbpedia.org/resource/Brain_Cranson  "
      ]
     },
     "execution_count": 79,
     "metadata": {},
     "output_type": "execute_result"
    }
   ],
   "source": [
    "# go to http://librdf.org/parse,\n",
    "# paste the solution above, \n",
    "# copy the result table to clipboard\n",
    "pd.read_clipboard()      "
   ]
  },
  {
   "cell_type": "code",
   "execution_count": null,
   "metadata": {},
   "outputs": [],
   "source": []
  },
  {
   "cell_type": "markdown",
   "metadata": {},
   "source": [
    "### 2.3:Q4 Discussion: \n",
    "* What are the pros and cons of using blank nodes? \n",
    "* Are there tools that convert between Turtle and RDF/XML?\n",
    "    * see also: The W3C Validator is found at http://www.w3.org/RDF/Validator/"
   ]
  },
  {
   "cell_type": "code",
   "execution_count": null,
   "metadata": {},
   "outputs": [],
   "source": []
  },
  {
   "cell_type": "markdown",
   "metadata": {},
   "source": [
    "## 2.4 RDF Complex Data Structures\n",
    "* __RDF lists__ - helper construct (syntactic sugar)\n",
    "    * Containers - open lists which can be extended\n",
    "        * Bag - unordered set\n",
    "        * Seq - ordered set\n",
    "        * Alt - alternative\n",
    "        * A container is a blank node like: `ex:contain [a rdf:Bag ; ... ]` \n",
    "    * Collections - closed lists like a *linked list* in OOP which has a *Head* and a *Tail*\n",
    "        * A collection is defined by `ex:contain (...)`\n",
    "\n",
    "\n",
    "* __Reification__ - statements about statements\n",
    "    * a triple represented as an entity: `rdf:Statement`\n",
    "    * Uses:\n",
    "        * Provenance\n",
    "        * Reliability/Trust\n",
    "        * Metadata\n",
    "    * Gotchas:\n",
    "        * Type conflicts\n",
    "        * infinte loops\n",
    "        "
   ]
  },
  {
   "cell_type": "markdown",
   "metadata": {},
   "source": [
    "### 2.4:Q1\n",
    "Express the list of authors of the semantic web book as a Collection.   \n",
    "\n",
    "Authors: \n",
    "* Hitzler\n",
    "* Krötzsch\n",
    "* Rudolph"
   ]
  },
  {
   "cell_type": "markdown",
   "metadata": {},
   "source": [
    "```\n",
    "@prefix book: <http://semantic-web-book.org/> . \n",
    "@prefix ex: <http://example.com/> . \n",
    "\n",
    "book:uri <http://example.org/authors> ( book:uri/Hitzler book:uri/Krötzsch book:uri/Rudolph ) .\n",
    "```\n",
    "\n",
    "<img src=\"collection.png\">"
   ]
  },
  {
   "cell_type": "markdown",
   "metadata": {},
   "source": [
    "### 2.4:Q2\n",
    "*(book Exercise 2.4)*  \n",
    "Represent the following sentences graphically by means of reified triples:\n",
    "* Romeo thought that Juliet was dead. \n",
    "* John believes that Mary wants to marry him. \n",
    "* The dwarf noticed that somebody had been eating from his plate."
   ]
  },
  {
   "cell_type": "code",
   "execution_count": 134,
   "metadata": {},
   "outputs": [
    {
     "data": {
      "image/svg+xml": [
       "<?xml version=\"1.0\" encoding=\"UTF-8\" standalone=\"no\"?>\n",
       "<!DOCTYPE svg PUBLIC \"-//W3C//DTD SVG 1.1//EN\"\n",
       " \"http://www.w3.org/Graphics/SVG/1.1/DTD/svg11.dtd\">\n",
       "<!-- Generated by graphviz version 2.40.1 (20161225.0304)\n",
       " -->\n",
       "<!-- Title: %3 Pages: 1 -->\n",
       "<svg width=\"445pt\" height=\"152pt\"\n",
       " viewBox=\"0.00 0.00 445.38 152.00\" xmlns=\"http://www.w3.org/2000/svg\" xmlns:xlink=\"http://www.w3.org/1999/xlink\">\n",
       "<g id=\"graph0\" class=\"graph\" transform=\"scale(1 1) rotate(0) translate(4 148)\">\n",
       "<title>%3</title>\n",
       "<polygon fill=\"#ffffff\" stroke=\"transparent\" points=\"-4,4 -4,-148 441.3841,-148 441.3841,4 -4,4\"/>\n",
       "<!-- A -->\n",
       "<g id=\"node1\" class=\"node\">\n",
       "<title>A</title>\n",
       "<ellipse fill=\"none\" stroke=\"#000000\" cx=\"48.0957\" cy=\"-72\" rx=\"48.1917\" ry=\"18\"/>\n",
       "<text text-anchor=\"middle\" x=\"48.0957\" y=\"-68.3\" font-family=\"Times,serif\" font-size=\"14.00\" fill=\"#000000\">ex:Romeo</text>\n",
       "</g>\n",
       "<!-- B -->\n",
       "<g id=\"node2\" class=\"node\">\n",
       "<title>B</title>\n",
       "<ellipse fill=\"none\" stroke=\"#000000\" cx=\"219.1915\" cy=\"-72\" rx=\"27\" ry=\"18\"/>\n",
       "</g>\n",
       "<!-- A&#45;&gt;B -->\n",
       "<g id=\"edge1\" class=\"edge\">\n",
       "<title>A&#45;&gt;B</title>\n",
       "<path fill=\"none\" stroke=\"#000000\" d=\"M96.2107,-72C123.3669,-72 156.7917,-72 181.9375,-72\"/>\n",
       "<polygon fill=\"#000000\" stroke=\"#000000\" points=\"182.165,-75.5001 192.1649,-72 182.1649,-68.5001 182.165,-75.5001\"/>\n",
       "<text text-anchor=\"middle\" x=\"144.1915\" y=\"-75.8\" font-family=\"Times,serif\" font-size=\"14.00\" fill=\"#000000\">ex:thought</text>\n",
       "</g>\n",
       "<!-- C -->\n",
       "<g id=\"node3\" class=\"node\">\n",
       "<title>C</title>\n",
       "<ellipse fill=\"none\" stroke=\"#000000\" cx=\"395.7878\" cy=\"-126\" rx=\"41.6928\" ry=\"18\"/>\n",
       "<text text-anchor=\"middle\" x=\"395.7878\" y=\"-122.3\" font-family=\"Times,serif\" font-size=\"14.00\" fill=\"#000000\">ex:Juliet</text>\n",
       "</g>\n",
       "<!-- B&#45;&gt;C -->\n",
       "<g id=\"edge2\" class=\"edge\">\n",
       "<title>B&#45;&gt;C</title>\n",
       "<path fill=\"none\" stroke=\"#000000\" d=\"M241.8451,-82.2919C248.922,-85.3095 256.8099,-88.4738 264.1915,-91 291.9348,-100.4944 323.6866,-109.0049 349.0499,-115.256\"/>\n",
       "<polygon fill=\"#000000\" stroke=\"#000000\" points=\"348.2445,-118.662 358.7883,-117.6229 349.8978,-111.8601 348.2445,-118.662\"/>\n",
       "<text text-anchor=\"middle\" x=\"300.1915\" y=\"-114.8\" font-family=\"Times,serif\" font-size=\"14.00\" fill=\"#000000\">rdf:subject</text>\n",
       "</g>\n",
       "<!-- D -->\n",
       "<g id=\"node4\" class=\"node\">\n",
       "<title>D</title>\n",
       "<ellipse fill=\"none\" stroke=\"#000000\" cx=\"395.7878\" cy=\"-72\" rx=\"39.7935\" ry=\"18\"/>\n",
       "<text text-anchor=\"middle\" x=\"395.7878\" y=\"-68.3\" font-family=\"Times,serif\" font-size=\"14.00\" fill=\"#000000\">rdf:type</text>\n",
       "</g>\n",
       "<!-- B&#45;&gt;D -->\n",
       "<g id=\"edge3\" class=\"edge\">\n",
       "<title>B&#45;&gt;D</title>\n",
       "<path fill=\"none\" stroke=\"#000000\" d=\"M246.3976,-72C272.8504,-72 313.6516,-72 345.9336,-72\"/>\n",
       "<polygon fill=\"#000000\" stroke=\"#000000\" points=\"346.0865,-75.5001 356.0865,-72 346.0865,-68.5001 346.0865,-75.5001\"/>\n",
       "<text text-anchor=\"middle\" x=\"300.1915\" y=\"-75.8\" font-family=\"Times,serif\" font-size=\"14.00\" fill=\"#000000\">rdf:predicate</text>\n",
       "</g>\n",
       "<!-- E -->\n",
       "<g id=\"node5\" class=\"node\">\n",
       "<title>E</title>\n",
       "<ellipse fill=\"none\" stroke=\"#000000\" cx=\"395.7878\" cy=\"-18\" rx=\"40.8928\" ry=\"18\"/>\n",
       "<text text-anchor=\"middle\" x=\"395.7878\" y=\"-14.3\" font-family=\"Times,serif\" font-size=\"14.00\" fill=\"#000000\">ex:Dead</text>\n",
       "</g>\n",
       "<!-- B&#45;&gt;E -->\n",
       "<g id=\"edge4\" class=\"edge\">\n",
       "<title>B&#45;&gt;E</title>\n",
       "<path fill=\"none\" stroke=\"#000000\" d=\"M241.8451,-61.7081C248.922,-58.6905 256.8099,-55.5262 264.1915,-53 292.1322,-43.438 324.1388,-34.874 349.5905,-28.6109\"/>\n",
       "<polygon fill=\"#000000\" stroke=\"#000000\" points=\"350.4622,-32.001 359.3547,-26.2414 348.8114,-25.1985 350.4622,-32.001\"/>\n",
       "<text text-anchor=\"middle\" x=\"300.1915\" y=\"-56.8\" font-family=\"Times,serif\" font-size=\"14.00\" fill=\"#000000\">rdf:oject</text>\n",
       "</g>\n",
       "</g>\n",
       "</svg>\n"
      ],
      "text/plain": [
       "<graphviz.dot.Digraph at 0x7ff8c6082cc0>"
      ]
     },
     "execution_count": 134,
     "metadata": {},
     "output_type": "execute_result"
    }
   ],
   "source": [
    "'''\n",
    "Romeo thought that Juliet was dead.\n",
    "'''\n",
    "# Note that in most cases, statements including forms of “to be” are best translated into a rdf:type statement. (why?)\n",
    "\n",
    "g = Digraph()\n",
    "g.graph_attr['rankdir'] = 'LR'\n",
    "\n",
    "g.node('A', 'ex:Romeo')\n",
    "g.node('B','')\n",
    "g.node('C','ex:Juliet')\n",
    "g.node('D','rdf:type')\n",
    "g.node('E', 'ex:Dead')\n",
    "\n",
    "g.edge('A', 'B', label='ex:thought')\n",
    "g.edge('B', 'C', label='rdf:subject')\n",
    "g.edge('B', 'D', label='rdf:predicate')\n",
    "g.edge('B', 'E', label='rdf:oject')\n",
    "g"
   ]
  },
  {
   "cell_type": "code",
   "execution_count": 149,
   "metadata": {},
   "outputs": [
    {
     "data": {
      "image/svg+xml": [
       "<?xml version=\"1.0\" encoding=\"UTF-8\" standalone=\"no\"?>\n",
       "<!DOCTYPE svg PUBLIC \"-//W3C//DTD SVG 1.1//EN\"\n",
       " \"http://www.w3.org/Graphics/SVG/1.1/DTD/svg11.dtd\">\n",
       "<!-- Generated by graphviz version 2.40.1 (20161225.0304)\n",
       " -->\n",
       "<!-- Title: %3 Pages: 1 -->\n",
       "<svg width=\"641pt\" height=\"132pt\"\n",
       " viewBox=\"0.00 0.00 640.58 132.00\" xmlns=\"http://www.w3.org/2000/svg\" xmlns:xlink=\"http://www.w3.org/1999/xlink\">\n",
       "<g id=\"graph0\" class=\"graph\" transform=\"scale(1 1) rotate(0) translate(4 128)\">\n",
       "<title>%3</title>\n",
       "<polygon fill=\"#ffffff\" stroke=\"transparent\" points=\"-4,4 -4,-128 636.5767,-128 636.5767,4 -4,4\"/>\n",
       "<!-- A -->\n",
       "<g id=\"node1\" class=\"node\">\n",
       "<title>A</title>\n",
       "<ellipse fill=\"none\" stroke=\"#000000\" cx=\"38.9965\" cy=\"-18\" rx=\"38.9931\" ry=\"18\"/>\n",
       "<text text-anchor=\"middle\" x=\"38.9965\" y=\"-14.3\" font-family=\"Times,serif\" font-size=\"14.00\" fill=\"#000000\">ex:John</text>\n",
       "</g>\n",
       "<!-- B -->\n",
       "<g id=\"node2\" class=\"node\">\n",
       "<title>B</title>\n",
       "<ellipse fill=\"none\" stroke=\"#000000\" cx=\"204.4931\" cy=\"-63\" rx=\"27\" ry=\"18\"/>\n",
       "</g>\n",
       "<!-- A&#45;&gt;B -->\n",
       "<g id=\"edge1\" class=\"edge\">\n",
       "<title>A&#45;&gt;B</title>\n",
       "<path fill=\"none\" stroke=\"#000000\" d=\"M72.8866,-27.215C101.0173,-34.864 140.8847,-45.7043 169.3553,-53.4457\"/>\n",
       "<polygon fill=\"#000000\" stroke=\"#000000\" points=\"168.718,-56.8994 179.286,-56.146 170.5547,-50.1447 168.718,-56.8994\"/>\n",
       "<text text-anchor=\"middle\" x=\"127.4931\" y=\"-52.8\" font-family=\"Times,serif\" font-size=\"14.00\" fill=\"#000000\">ex:believes</text>\n",
       "</g>\n",
       "<!-- C -->\n",
       "<g id=\"node3\" class=\"node\">\n",
       "<title>C</title>\n",
       "<ellipse fill=\"none\" stroke=\"#000000\" cx=\"583.1811\" cy=\"-93\" rx=\"41.6928\" ry=\"18\"/>\n",
       "<text text-anchor=\"middle\" x=\"583.1811\" y=\"-89.3\" font-family=\"Times,serif\" font-size=\"14.00\" fill=\"#000000\">ex:Mary</text>\n",
       "</g>\n",
       "<!-- B&#45;&gt;C -->\n",
       "<g id=\"edge2\" class=\"edge\">\n",
       "<title>B&#45;&gt;C</title>\n",
       "<path fill=\"none\" stroke=\"#000000\" d=\"M224.1482,-75.8795C231.9089,-80.3991 241.0879,-85.0737 249.9931,-88 346.7674,-119.8002 468.0432,-110.2207 534.333,-101.1402\"/>\n",
       "<polygon fill=\"#000000\" stroke=\"#000000\" points=\"535.0815,-104.569 544.4878,-99.6935 534.0941,-97.639 535.0815,-104.569\"/>\n",
       "<text text-anchor=\"middle\" x=\"382.8893\" y=\"-112.8\" font-family=\"Times,serif\" font-size=\"14.00\" fill=\"#000000\">rdf:subect</text>\n",
       "</g>\n",
       "<!-- D -->\n",
       "<g id=\"node4\" class=\"node\">\n",
       "<title>D</title>\n",
       "<ellipse fill=\"none\" stroke=\"#000000\" cx=\"382.8893\" cy=\"-73\" rx=\"42.7926\" ry=\"18\"/>\n",
       "<text text-anchor=\"middle\" x=\"382.8893\" y=\"-69.3\" font-family=\"Times,serif\" font-size=\"14.00\" fill=\"#000000\">ex:wants</text>\n",
       "</g>\n",
       "<!-- B&#45;&gt;D -->\n",
       "<g id=\"edge3\" class=\"edge\">\n",
       "<title>B&#45;&gt;D</title>\n",
       "<path fill=\"none\" stroke=\"#000000\" d=\"M231.5876,-64.5188C257.6218,-65.9781 297.6684,-68.2229 330.0229,-70.0366\"/>\n",
       "<polygon fill=\"#000000\" stroke=\"#000000\" points=\"330.0496,-73.5435 340.2298,-70.6087 330.4414,-66.5544 330.0496,-73.5435\"/>\n",
       "<text text-anchor=\"middle\" x=\"285.9931\" y=\"-72.8\" font-family=\"Times,serif\" font-size=\"14.00\" fill=\"#000000\">rdf:predicate</text>\n",
       "</g>\n",
       "<!-- E -->\n",
       "<g id=\"node5\" class=\"node\">\n",
       "<title>E</title>\n",
       "<ellipse fill=\"none\" stroke=\"#000000\" cx=\"382.8893\" cy=\"-19\" rx=\"27\" ry=\"18\"/>\n",
       "</g>\n",
       "<!-- B&#45;&gt;E -->\n",
       "<g id=\"edge4\" class=\"edge\">\n",
       "<title>B&#45;&gt;E</title>\n",
       "<path fill=\"none\" stroke=\"#000000\" d=\"M227.8731,-53.4625C234.9076,-50.8117 242.6972,-48.0901 249.9931,-46 282.0624,-36.813 319.3439,-29.5244 346.2436,-24.8472\"/>\n",
       "<polygon fill=\"#000000\" stroke=\"#000000\" points=\"347.0993,-28.252 356.3706,-23.1242 345.9252,-21.3511 347.0993,-28.252\"/>\n",
       "<text text-anchor=\"middle\" x=\"285.9931\" y=\"-49.8\" font-family=\"Times,serif\" font-size=\"14.00\" fill=\"#000000\">rdf:object</text>\n",
       "</g>\n",
       "<!-- E&#45;&gt;A -->\n",
       "<g id=\"edge7\" class=\"edge\">\n",
       "<title>E&#45;&gt;A</title>\n",
       "<path fill=\"none\" stroke=\"#000000\" d=\"M355.6261,-18.9207C297.7849,-18.7525 162.0656,-18.3579 88.4973,-18.1439\"/>\n",
       "<polygon fill=\"#000000\" stroke=\"#000000\" points=\"88.1208,-14.6429 78.1106,-18.1137 88.1003,-21.6429 88.1208,-14.6429\"/>\n",
       "<text text-anchor=\"middle\" x=\"204.4931\" y=\"-22.8\" font-family=\"Times,serif\" font-size=\"14.00\" fill=\"#000000\">rdf:object</text>\n",
       "</g>\n",
       "<!-- E&#45;&gt;C -->\n",
       "<g id=\"edge5\" class=\"edge\">\n",
       "<title>E&#45;&gt;C</title>\n",
       "<path fill=\"none\" stroke=\"#000000\" d=\"M406.6519,-27.7794C439.9405,-40.0782 500.9511,-62.6192 541.7915,-77.7082\"/>\n",
       "<polygon fill=\"#000000\" stroke=\"#000000\" points=\"540.607,-81.0017 551.2003,-81.1843 543.033,-74.4355 540.607,-81.0017\"/>\n",
       "<text text-anchor=\"middle\" x=\"479.7855\" y=\"-69.8\" font-family=\"Times,serif\" font-size=\"14.00\" fill=\"#000000\">rdf:subect</text>\n",
       "</g>\n",
       "<!-- F -->\n",
       "<g id=\"node6\" class=\"node\">\n",
       "<title>F</title>\n",
       "<ellipse fill=\"none\" stroke=\"#000000\" cx=\"583.1811\" cy=\"-19\" rx=\"49.2915\" ry=\"18\"/>\n",
       "<text text-anchor=\"middle\" x=\"583.1811\" y=\"-15.3\" font-family=\"Times,serif\" font-size=\"14.00\" fill=\"#000000\">ex:marries</text>\n",
       "</g>\n",
       "<!-- E&#45;&gt;F -->\n",
       "<g id=\"edge6\" class=\"edge\">\n",
       "<title>E&#45;&gt;F</title>\n",
       "<path fill=\"none\" stroke=\"#000000\" d=\"M409.9015,-19C438.792,-19 485.5372,-19 523.1989,-19\"/>\n",
       "<polygon fill=\"#000000\" stroke=\"#000000\" points=\"523.5582,-22.5001 533.5582,-19 523.5582,-15.5001 523.5582,-22.5001\"/>\n",
       "<text text-anchor=\"middle\" x=\"479.7855\" y=\"-22.8\" font-family=\"Times,serif\" font-size=\"14.00\" fill=\"#000000\">rdf:predicate</text>\n",
       "</g>\n",
       "</g>\n",
       "</svg>\n"
      ],
      "text/plain": [
       "<graphviz.dot.Digraph at 0x7ff8c92af278>"
      ]
     },
     "execution_count": 149,
     "metadata": {},
     "output_type": "execute_result"
    }
   ],
   "source": [
    "'''\n",
    "John believes that Mary wants to marry him.\n",
    "\n",
    "John believes X\n",
    "X: Mary wants Y\n",
    "Y: Mary marries John\n",
    "\n",
    "'''\n",
    "\n",
    "g = Digraph()\n",
    "g.graph_attr['rankdir'] = 'LR'\n",
    "\n",
    "g.node('A', 'ex:John')\n",
    "g.node('B','')\n",
    "g.node('C','ex:Mary')\n",
    "g.node('D','ex:wants')\n",
    "g.node('E','')\n",
    "g.node('F','ex:marries')\n",
    "\n",
    "g.edge('A', 'B', label='ex:believes')\n",
    "\n",
    "g.edge('B', 'C', label='rdf:subect')\n",
    "g.edge('B', 'D', label='rdf:predicate')\n",
    "g.edge('B', 'E', label='rdf:object')\n",
    "\n",
    "g.edge('E', 'C', label='rdf:subect')\n",
    "g.edge('E', 'F', label='rdf:predicate')\n",
    "g.edge('E', 'A', label='rdf:object')\n",
    "\n",
    "\n",
    "\n",
    "g"
   ]
  },
  {
   "cell_type": "code",
   "execution_count": 145,
   "metadata": {},
   "outputs": [
    {
     "data": {
      "image/svg+xml": [
       "<?xml version=\"1.0\" encoding=\"UTF-8\" standalone=\"no\"?>\n",
       "<!DOCTYPE svg PUBLIC \"-//W3C//DTD SVG 1.1//EN\"\n",
       " \"http://www.w3.org/Graphics/SVG/1.1/DTD/svg11.dtd\">\n",
       "<!-- Generated by graphviz version 2.40.1 (20161225.0304)\n",
       " -->\n",
       "<!-- Title: %3 Pages: 1 -->\n",
       "<svg width=\"633pt\" height=\"160pt\"\n",
       " viewBox=\"0.00 0.00 633.27 160.00\" xmlns=\"http://www.w3.org/2000/svg\" xmlns:xlink=\"http://www.w3.org/1999/xlink\">\n",
       "<g id=\"graph0\" class=\"graph\" transform=\"scale(1 1) rotate(0) translate(4 156)\">\n",
       "<title>%3</title>\n",
       "<polygon fill=\"#ffffff\" stroke=\"transparent\" points=\"-4,4 -4,-156 629.2745,-156 629.2745,4 -4,4\"/>\n",
       "<!-- A -->\n",
       "<g id=\"node1\" class=\"node\">\n",
       "<title>A</title>\n",
       "<ellipse fill=\"none\" stroke=\"#000000\" cx=\"44.846\" cy=\"-25\" rx=\"44.6926\" ry=\"18\"/>\n",
       "<text text-anchor=\"middle\" x=\"44.846\" y=\"-21.3\" font-family=\"Times,serif\" font-size=\"14.00\" fill=\"#000000\">ex:Dwarf</text>\n",
       "</g>\n",
       "<!-- B -->\n",
       "<g id=\"node2\" class=\"node\">\n",
       "<title>B</title>\n",
       "<ellipse fill=\"none\" stroke=\"#000000\" cx=\"211.692\" cy=\"-70\" rx=\"27\" ry=\"18\"/>\n",
       "</g>\n",
       "<!-- A&#45;&gt;B -->\n",
       "<g id=\"edge1\" class=\"edge\">\n",
       "<title>A&#45;&gt;B</title>\n",
       "<path fill=\"none\" stroke=\"#000000\" d=\"M82.2895,-35.0989C110.6129,-42.738 149.2196,-53.1506 176.8782,-60.6104\"/>\n",
       "<polygon fill=\"#000000\" stroke=\"#000000\" points=\"175.9671,-63.9896 186.5336,-63.2145 177.79,-57.2311 175.9671,-63.9896\"/>\n",
       "<text text-anchor=\"middle\" x=\"137.192\" y=\"-60.8\" font-family=\"Times,serif\" font-size=\"14.00\" fill=\"#000000\">ex:noticed</text>\n",
       "</g>\n",
       "<!-- E -->\n",
       "<g id=\"node5\" class=\"node\">\n",
       "<title>E</title>\n",
       "<ellipse fill=\"none\" stroke=\"#000000\" cx=\"398.6874\" cy=\"-18\" rx=\"39.7935\" ry=\"18\"/>\n",
       "<text text-anchor=\"middle\" x=\"398.6874\" y=\"-14.3\" font-family=\"Times,serif\" font-size=\"14.00\" fill=\"#000000\">ex:plate</text>\n",
       "</g>\n",
       "<!-- A&#45;&gt;E -->\n",
       "<g id=\"edge2\" class=\"edge\">\n",
       "<title>A&#45;&gt;E</title>\n",
       "<path fill=\"none\" stroke=\"#000000\" d=\"M89.6603,-24.1134C155.9034,-22.803 279.5535,-20.3568 348.6667,-18.9896\"/>\n",
       "<polygon fill=\"#000000\" stroke=\"#000000\" points=\"348.9353,-22.485 358.8641,-18.7878 348.7968,-15.4864 348.9353,-22.485\"/>\n",
       "<text text-anchor=\"middle\" x=\"211.692\" y=\"-26.8\" font-family=\"Times,serif\" font-size=\"14.00\" fill=\"#000000\">ex:owns</text>\n",
       "</g>\n",
       "<!-- C -->\n",
       "<g id=\"node3\" class=\"node\">\n",
       "<title>C</title>\n",
       "<ellipse fill=\"none\" stroke=\"#000000\" cx=\"398.6874\" cy=\"-134\" rx=\"27\" ry=\"18\"/>\n",
       "</g>\n",
       "<!-- B&#45;&gt;C -->\n",
       "<g id=\"edge3\" class=\"edge\">\n",
       "<title>B&#45;&gt;C</title>\n",
       "<path fill=\"none\" stroke=\"#000000\" d=\"M231.2771,-82.8155C238.9704,-87.4447 248.0227,-92.409 256.692,-96 291.444,-110.3949 333.2512,-120.811 362.4683,-127.0579\"/>\n",
       "<polygon fill=\"#000000\" stroke=\"#000000\" points=\"362.1233,-130.561 372.6265,-129.1704 363.5486,-123.7076 362.1233,-130.561\"/>\n",
       "<text text-anchor=\"middle\" x=\"292.692\" y=\"-121.8\" font-family=\"Times,serif\" font-size=\"14.00\" fill=\"#000000\">rdf:subject</text>\n",
       "</g>\n",
       "<!-- D -->\n",
       "<g id=\"node4\" class=\"node\">\n",
       "<title>D</title>\n",
       "<ellipse fill=\"none\" stroke=\"#000000\" cx=\"398.6874\" cy=\"-80\" rx=\"51.9908\" ry=\"18\"/>\n",
       "<text text-anchor=\"middle\" x=\"398.6874\" y=\"-76.3\" font-family=\"Times,serif\" font-size=\"14.00\" fill=\"#000000\">ex:eatFrom</text>\n",
       "</g>\n",
       "<!-- B&#45;&gt;D -->\n",
       "<g id=\"edge4\" class=\"edge\">\n",
       "<title>B&#45;&gt;D</title>\n",
       "<path fill=\"none\" stroke=\"#000000\" d=\"M238.8828,-71.4541C264.4944,-72.8237 303.7823,-74.9247 336.9928,-76.7007\"/>\n",
       "<polygon fill=\"#000000\" stroke=\"#000000\" points=\"336.9099,-80.2012 347.0825,-77.2403 337.2837,-73.2112 336.9099,-80.2012\"/>\n",
       "<text text-anchor=\"middle\" x=\"292.692\" y=\"-80.8\" font-family=\"Times,serif\" font-size=\"14.00\" fill=\"#000000\">rdf:predicate</text>\n",
       "</g>\n",
       "<!-- B&#45;&gt;E -->\n",
       "<g id=\"edge5\" class=\"edge\">\n",
       "<title>B&#45;&gt;E</title>\n",
       "<path fill=\"none\" stroke=\"#000000\" d=\"M235.3755,-61.1125C242.2114,-58.6746 249.7105,-56.1211 256.692,-54 288.6585,-44.288 325.2086,-35.0638 353.2206,-28.3841\"/>\n",
       "<polygon fill=\"#000000\" stroke=\"#000000\" points=\"354.2033,-31.7483 363.1302,-26.0421 352.5933,-24.936 354.2033,-31.7483\"/>\n",
       "<text text-anchor=\"middle\" x=\"292.692\" y=\"-57.8\" font-family=\"Times,serif\" font-size=\"14.00\" fill=\"#000000\">rdf:oject</text>\n",
       "</g>\n",
       "<!-- G -->\n",
       "<g id=\"node6\" class=\"node\">\n",
       "<title>G</title>\n",
       "<ellipse fill=\"none\" stroke=\"#000000\" cx=\"578.4787\" cy=\"-134\" rx=\"46.5926\" ry=\"18\"/>\n",
       "<text text-anchor=\"middle\" x=\"578.4787\" y=\"-130.3\" font-family=\"Times,serif\" font-size=\"14.00\" fill=\"#000000\">ex:Person</text>\n",
       "</g>\n",
       "<!-- C&#45;&gt;G -->\n",
       "<g id=\"edge6\" class=\"edge\">\n",
       "<title>C&#45;&gt;G</title>\n",
       "<path fill=\"none\" stroke=\"#000000\" d=\"M425.9938,-134C451.2566,-134 489.6112,-134 521.5326,-134\"/>\n",
       "<polygon fill=\"#000000\" stroke=\"#000000\" points=\"521.6459,-137.5001 531.6459,-134 521.6459,-130.5001 521.6459,-137.5001\"/>\n",
       "<text text-anchor=\"middle\" x=\"491.1828\" y=\"-137.8\" font-family=\"Times,serif\" font-size=\"14.00\" fill=\"#000000\">rdf:type</text>\n",
       "</g>\n",
       "</g>\n",
       "</svg>\n"
      ],
      "text/plain": [
       "<graphviz.dot.Digraph at 0x7ff8c92944e0>"
      ]
     },
     "execution_count": 145,
     "metadata": {},
     "output_type": "execute_result"
    }
   ],
   "source": [
    "'''\n",
    "The dwarf noticed that somebody had been eating from his plate.\n",
    "\n",
    "Dwarf noticed X\n",
    "Dwarf owns plate\n",
    "X: Someone eatingFrom plate\n",
    "\n",
    "'''\n",
    "\n",
    "\n",
    "g = Digraph()\n",
    "g.graph_attr['rankdir'] = 'LR'\n",
    "\n",
    "g.node('A', 'ex:Dwarf')\n",
    "g.node('B','')\n",
    "g.node('C','') \n",
    "g.node('D','ex:eatFrom')\n",
    "g.node('E','ex:plate')\n",
    "g.node('G','ex:Person') #Someone\n",
    "\n",
    "g.edge('A', 'B', label='ex:noticed')\n",
    "g.edge('A', 'E', label='ex:owns')\n",
    "g.edge('B', 'C', label='rdf:subject')\n",
    "g.edge('B', 'D', label='rdf:predicate')\n",
    "g.edge('B', 'E', label='rdf:oject')\n",
    "\n",
    "g.edge('C','G', label='rdf:type')\n",
    "g"
   ]
  },
  {
   "cell_type": "markdown",
   "metadata": {},
   "source": [
    "### 2.4:Q2 Discussion: \n",
    "* What are some alternative ways to model these? What are pros and cons?"
   ]
  },
  {
   "cell_type": "code",
   "execution_count": 133,
   "metadata": {},
   "outputs": [],
   "source": []
  },
  {
   "cell_type": "markdown",
   "metadata": {},
   "source": [
    "## 2.5 Model Building with RDFS\n",
    "\n",
    "### Semantic expressivity - \"meaning\"\n",
    "#### RDF Schema - RDF Vocabulary Description Language\n",
    "RDF is extended to the *ontology language* RDF Schema (RDFS)\n",
    "* Classes and class instantiation\n",
    "* Properties with domain and range restrictions\n",
    "* Everything in RDF is an RDF Resource\n",
    "\n",
    "Example:\n",
    "```\n",
    "ex:Textbook rdf:type rdfs:Class . \n",
    "book:uri rdf:type ex:Textbook . \n",
    "ex:Textbook rdfs:subClassOf ex:Book . \n",
    "ex:Book rdfs:subClassOf ex:PrintMedia .\n",
    "ex:Journal rdfs:subClassOf ex:PrintMedia .\n",
    "ex:MorningStar rdfs:subClassOf ex:Journal .\n",
    "ex:EveningStar rdfs:subClassOf ex:Journal .\n",
    "\n",
    "rdfs:Class rdf:type rdfs:Class . \n",
    "```\n",
    "__Notational convention:__ URIs representing classes are usually capitalized, whereas names for instances and properties are written in lower case."
   ]
  },
  {
   "cell_type": "markdown",
   "metadata": {},
   "source": [
    "### 2.5:Q1\n",
    "Using the above example,    \n",
    "    1) write a triple which illustrates the *transitive* relationship    \n",
    "    2) write a triple which illustrates the *reflexive* relationship    \n",
    "    3) provide an example which illustrates *extensionally equivalent* classes   "
   ]
  },
  {
   "cell_type": "markdown",
   "metadata": {},
   "source": [
    "```\n",
    "1. ex:Textbook rdf:type ex:Book\n",
    "2. ex:Book rdfs:subClassOf ex:Book . \n",
    "3. ex:MorningStar rdfs:subClassOf ex:EveningStar .\n",
    "   ex:EveningStar rdfs:subClassOf ex:MorningStar .\n",
    "```"
   ]
  },
  {
   "cell_type": "markdown",
   "metadata": {},
   "source": [
    "### 2.5:Q2\n",
    "Domain and range restrictions constitute the “semantic link” between classes and properties.    \n",
    "\n",
    "Given the triple: `a ex:isMarriedTo b .`, write the domain and range restrictions for `isMarriedTo` which will allow us to assert that both `a` and `b` are of `rdf:type ex:Person`"
   ]
  },
  {
   "cell_type": "markdown",
   "metadata": {},
   "source": [
    "```\n",
    "a rdf:type ex:Person .\n",
    "b rdf:type ex:Person .\n",
    "        \n",
    "ex:isMarriedTo rdfs:domain ex:Person ,\n",
    "                rdfs:range ex:Person .\n",
    "```           "
   ]
  },
  {
   "cell_type": "markdown",
   "metadata": {},
   "source": [
    "### 2.5:Q3 \n",
    "*(book Exercise 2.5)*    \n",
    "Decide whether the following propositions can be satisfactorily modeled in RDFS and, if so, give the corresponding RDF(S) specification.\n",
    "1. Every pizza is a meal. \n",
    "2. Pizzas always have at least two toppings. \n",
    "3. Every pizza from the class PizzaMargarita has a Tomato topping. \n",
    "4. Everything having a topping is a pizza.\n",
    "5. No pizza from the class PizzaMargarita has a topping from the class Meat.\n",
    "6. “Having a topping” is a containedness relation."
   ]
  },
  {
   "cell_type": "markdown",
   "metadata": {},
   "source": [
    "```\n",
    "1. ex:Pizza rdf:type ex:Class .   \n",
    "   ex:Meal rdf:type Pizza .\n",
    "   \n",
    "   ---------------- OR ---------------------\n",
    "   \n",
    "   ex:Pizza rdfs:subClassOf ex:Meal .   \n",
    "   \n",
    "   ---------------- OR ---------------------\n",
    "   \n",
    "   ex:Pizza rdf:type ex:Meal .\n",
    "   \n",
    "2. \"at least\" is not possible in RDFs\n",
    "3. ex:PizzaMargarita dbpp:hasTopping ex:Tomato .       \n",
    "4. cannot be modelled in RDFs\n",
    "5. negation is not possible in RDFs\n",
    "6. ex:hasTopping rdf:type rdfs:ContainerMembershipProperty .\n",
    "```"
   ]
  },
  {
   "cell_type": "markdown",
   "metadata": {},
   "source": [
    "### 2.5:Q3 Discussion:\n",
    "* In number 1 above, are all three solutions valid? "
   ]
  },
  {
   "cell_type": "code",
   "execution_count": null,
   "metadata": {},
   "outputs": [],
   "source": []
  },
  {
   "cell_type": "markdown",
   "metadata": {},
   "source": [
    "## 2.6 Logical Inference with RDF(S)\n",
    "* __Formal semantics__ the logical dimension of the notion of semantics. Allows us to draw sound and valid logical inferences\n",
    "* First Order Logic"
   ]
  },
  {
   "cell_type": "markdown",
   "metadata": {},
   "source": [
    "### NOTE: Probably not a practical use of time, since FOL is not feasab;e in the real world. "
   ]
  },
  {
   "cell_type": "markdown",
   "metadata": {},
   "source": [
    "## 2.7 Excursion 1 RDFa - RDF on the Web\n",
    "* Microformats - use native html markup like `class`, `span`, etc., ex: `<div class=\"vcard\"`>\n",
    "* RDFa - RDF in html __a__ttributes like `href`, `src`, `vocab`, etc. ex: `<p vocab=\"http//xmlns.com/foaf/0.1/\" typeof=\"Person\">`\n",
    "* HTML5 and schema.org"
   ]
  },
  {
   "cell_type": "markdown",
   "metadata": {},
   "source": [
    "### 2.7:Q1 Discussion:\n",
    "* Obstacles to adoption "
   ]
  },
  {
   "cell_type": "code",
   "execution_count": null,
   "metadata": {},
   "outputs": [],
   "source": []
  },
  {
   "cell_type": "markdown",
   "metadata": {},
   "source": [
    "### 2.7:Q2 Discussion:\n",
    "* RDFa for SEO"
   ]
  },
  {
   "cell_type": "code",
   "execution_count": null,
   "metadata": {},
   "outputs": [],
   "source": []
  },
  {
   "cell_type": "markdown",
   "metadata": {},
   "source": [
    "## See also\n",
    "There are also very good exercises and projects at the end of Chapter 2 of A Semantic Web Primer."
   ]
  },
  {
   "cell_type": "code",
   "execution_count": null,
   "metadata": {},
   "outputs": [],
   "source": []
  }
 ],
 "metadata": {
  "kernelspec": {
   "display_name": "Python 3",
   "language": "python",
   "name": "python3"
  },
  "language_info": {
   "codemirror_mode": {
    "name": "ipython",
    "version": 3
   },
   "file_extension": ".py",
   "mimetype": "text/x-python",
   "name": "python",
   "nbconvert_exporter": "python",
   "pygments_lexer": "ipython3",
   "version": "3.7.3"
  }
 },
 "nbformat": 4,
 "nbformat_minor": 4
}
