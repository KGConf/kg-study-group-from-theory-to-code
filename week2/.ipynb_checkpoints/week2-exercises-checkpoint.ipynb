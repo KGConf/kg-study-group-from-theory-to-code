{
 "cells": [
  {
   "cell_type": "markdown",
   "metadata": {},
   "source": [
    "# Week 2 Exercises\n",
    "## Basic Semantic Technologies\n",
    "* 2.1 How to Identify and Access Things\n",
    "* 2.2 How to Represent Simple Facts with RDF\n",
    "* 2.3 RDF Turtle Serialization\n",
    "* 2.4 RDF Complex Data Structures\n",
    "* 2.5 Model Building with RDFS\n",
    "* 2.6 Logical Inference with RDF(S)\n",
    "* Excursion 1: RDFa - RDF and the We"
   ]
  },
  {
   "cell_type": "markdown",
   "metadata": {},
   "source": [
    "## 2.1 How to access things"
   ]
  },
  {
   "cell_type": "code",
   "execution_count": 7,
   "metadata": {},
   "outputs": [],
   "source": [
    "!curl -L -H \"Accept: text/html\" http://dbpedia.org/resource/Earth"
   ]
  },
  {
   "cell_type": "code",
   "execution_count": 8,
   "metadata": {},
   "outputs": [],
   "source": [
    "!curl -L -H \"Accept: application/rdf+xml\" http://dbpedia.org/resource/Earth"
   ]
  },
  {
   "cell_type": "markdown",
   "metadata": {},
   "source": [
    "### Question 1\n",
    "Select the correct statement(s) about the designatum.\n",
    "\n",
    "* [ ] The designatum designates a webpage.\n",
    "* [ ] The designatum is a resource.\n",
    "* [ ] The designatum is described by the designator.\n",
    "* [ ] The designatum is a representation of a resource."
   ]
  },
  {
   "cell_type": "markdown",
   "metadata": {},
   "source": [
    "### Question 2\n",
    "What is a URI?\n",
    "\n",
    "* [ ] A schema to identify what exists on the web.\n",
    "* [ ] An identifier for a designatum.\n",
    "* [ ] An identifier only for digital objects.\n",
    "* [ ] An extension of the URL concept.\n",
    "* [ ] The acronym for Universal Resource Identifier.\n",
    "* [ ] A schema for identification of abstract or physical resources."
   ]
  },
  {
   "cell_type": "markdown",
   "metadata": {},
   "source": [
    "### Question 3\n",
    "What is HTTP content negotiation?\n",
    "\n",
    "* [ ] A mechanism to serve multiple representations at the same place.\n",
    "* [ ] A mechanism to store a designator at the same place as the designatum.\n",
    "* [ ] A mechanism to always serve the same representation at multiple places."
   ]
  },
  {
   "cell_type": "markdown",
   "metadata": {},
   "source": [
    "### Question 4\n",
    "Which request(s) would cause the server to respond with `HTTP/2 303 See Other Location: http://dbpedia.org/data/Joseph_Fourier` ?\n",
    "\n",
    "* [ ] `HTTP GET http://dbpedia.org/resource/Earth \"Accept: image/jpg\"`\n",
    "* [ ] `HTTP POST http://dbpedia.org/resource/Joseph_Fourier Accept Header: application/rdf+xml`\n",
    "* [ ] `HTTP GET http://dbpedia.org/resource/Joseph_Fourier Accept Header: application/rdf+xml`\n",
    "* [ ] `HTTP GET http://dbpedia.org/resource/Joseph_Fourier Accept Header: text/*`"
   ]
  },
  {
   "cell_type": "markdown",
   "metadata": {},
   "source": [
    "## 2.2 How to Represent simple Facts with RDF"
   ]
  },
  {
   "cell_type": "code",
   "execution_count": 11,
   "metadata": {},
   "outputs": [],
   "source": [
    "fact=\"The Greenhouse Effect has been discovered in 1824\""
   ]
  },
  {
   "cell_type": "markdown",
   "metadata": {},
   "source": [
    "`subject   predicate   object`"
   ]
  },
  {
   "cell_type": "code",
   "execution_count": 11,
   "metadata": {},
   "outputs": [],
   "source": [
    "subject_=\"Greenhouse Effect\"\n",
    "predicate_=\"has been discovered in\"\n",
    "object_=\"1824\""
   ]
  },
  {
   "cell_type": "code",
   "execution_count": 71,
   "metadata": {},
   "outputs": [],
   "source": [
    "#!pip install pyvis"
   ]
  },
  {
   "cell_type": "code",
   "execution_count": 29,
   "metadata": {},
   "outputs": [],
   "source": [
    "import networkx as nx\n",
    "import matplotlib.pyplot as plt\n",
    "%matplotlib inline"
   ]
  },
  {
   "cell_type": "code",
   "execution_count": 66,
   "metadata": {},
   "outputs": [
    {
     "data": {
      "image/png": "[encoded data removed]",
      "text/plain": [
       "<Figure size 432x288 with 1 Axes>"
      ]
     },
     "metadata": {},
     "output_type": "display_data"
    }
   ],
   "source": [
    "# TODO: make this prettier\n",
    "G=nx.DiGraph()\n",
    "\n",
    "# a graph is a list of nodes and edges\n",
    "nodes = ['A', 'B']\n",
    "edges = [('A', 'B')]\n",
    "G.add_nodes_from(nodes)\n",
    "G.add_edges_from(edges,label=predicate_)\n",
    "\n",
    "pos=nx.spring_layout(G) # positions for all nodes\n",
    "\n",
    "# nodes\n",
    "nx.draw_networkx_nodes(G,pos,node_color=\"#cccccc\")\n",
    "nx.draw_networkx_edges(G,pos,edgelist=edges,arrowstyle=\"->\",arrowsize=20,width=2,alpha=0.5,edge_color='b')\n",
    "\n",
    "# labels\n",
    "labels = {'A':subject_, 'B':object_}\n",
    "nx.draw_networkx_labels(G,pos,font_size=12,font_family='sans-serif')\n",
    "nx.draw_networkx_labels(G,pos,font_size=12,font_color='#ff0055',font_family='sans-serif', labels=labels)\n",
    "\n",
    "edgelabels = nx.get_edge_attributes(G,'label')\n",
    "nx.draw_networkx_edge_labels(G,pos,edge_labels=edgelabels)\n",
    "\n",
    "plt.axis('off')\n",
    "plt.show()"
   ]
  },
  {
   "cell_type": "markdown",
   "metadata": {},
   "source": [
    "### N-triples serialization\n",
    "(predicate == property)\n",
    "\n",
    "`subject [URI]   property [URI]   object [URI | literal] .`\n",
    "\n",
    "Example:\n",
    "`<http://dbpedia.org/resource/Greenhouse_effect> <http://dbpedia.org/ontology/discoveredIn> “1824” .`"
   ]
  },
  {
   "cell_type": "markdown",
   "metadata": {},
   "source": [
    "### 2.2 RDF Triples examples:"
   ]
  },
  {
   "cell_type": "markdown",
   "metadata": {},
   "source": [
    "```\n",
    "<http://dbpedia.org/resource/Greenhouse_effect> <http://dbpedia.org/ontology/discoveredIn> “1824” .\n",
    "<http://dbpedia.org/resource/Greenhouse_effect> <http://dbpedia.org/ontology/discoverer> <http://dbpedia.org/resource/Joseph_Fourier> .\n",
    "<http://dbpedia.org/resource/Greenhouse_effect> <http://purl.org/dc/terms/subject> <http://dbpedia.org/category/Climate_change> .\n",
    "<http://dbpedia.org/resource/Greenhouse_effect> <http://purl.org/dc/terms/subject> <http://dbpedia.org/category/Athmosphere> .\n",
    "… … ...\n",
    "<http://dbpedia.org/resource/Joseph_Fourier> <http://dbpedia.org/ontology/birthdate> “1768-03-21” .\n",
    "<http://dbpedia.org/resource/Joseph_Fourier> <http://dbpedia.org/ontology/birthplace> <http://dbpedia.org/resource/Auxerre> .\n",
    "<http://dbpedia.org/resource/Joseph_Fourier> <http://dbpedia.org/ontology/field> <http://dbpedia.org/resource/Physicist> .\n",
    "… … ...\n",
    "<http://dbpedia.org/resource/Auxerre> <http://dbpedia.org/ontology/country> <http://dbpedia.org/resource/France> .\n",
    "<http://dbpedia.org/resource/Auxerre> <http://www.w3.org/2003/01/geo/wgs84_pos#lat> “47.798599”^^xsd:float .\n",
    "<http://dbpedia.org/resource/Auxerre> <http://www.w3.org/2003/01/geo/wgs84_pos#long> “3.567200”^^xsd:float .\n",
    "```"
   ]
  },
  {
   "cell_type": "markdown",
   "metadata": {},
   "source": [
    "### RDF - Resourse Description Framework:\n",
    "* Individuals (Entities) - *subject or object URI, ex: `<http://dbpedia.org/resource/Greenhouse_effect>`*\n",
    "* Classes - *a category URI, ex: `<http://dbpedia.org/category/Athmosphere>`*\n",
    "* Properties - *predicate URI, ex: `<http://dbpedia.org/ontology/birthdate>`*\n",
    "* Literals - *objects like: `“47.798599”^^xsd:float`*\n",
    "    * and untyped literals - like `\"helloworld\"`\n",
    "* Vocabularies / Ontologies - *a set containing URIs and literals, ex: `http://www.w3.org/2003/01/geo/wgs84_pos`*\n",
    "* __URIs__ identify and reference resources uniquely.\n",
    "* __Literals__ describe data values that don’t have a separate existence.\n",
    "\n",
    "See slides for details."
   ]
  },
  {
   "cell_type": "markdown",
   "metadata": {},
   "source": [
    "## 2.3 Turtle (Terse RDF Triple Language) Serialization\n",
    "Provides shortcuts for making RDF easier to read.\n",
    "* `@prefix` directive associates prefix-label with URI\n",
    "* `@base` directive provides URI to complement all relative URIs\n",
    "* `;` separates subject from property & object \n",
    "* `,` separates subject & property from object\n",
    "\n",
    "\n",
    "Example in Turtle:\n",
    "```\n",
    "@prefix book: <http://semantic-web-book.org/> . \n",
    "@prefix ex: <http://example.org/> . \n",
    "@prefix crc: <http://crcpress.com/> .\n",
    "book:uri ex:publishedBy crc:uri . \n",
    "book:uri ex:title \"Foundations of Semantic Web Technologies\" . \n",
    "crc:uri ex:name \"CRC Press\" .\n",
    "```"
   ]
  },
  {
   "cell_type": "markdown",
   "metadata": {},
   "source": [
    "### 2.3:Q1 Exercise: \n",
    "Rewite the N-triples in __2.2 RDF Examples__ using Turtle syntax, in the most compact way.   Use a validator to make sure your code is syntactically valid.   \n",
    "* http://librdf.org/parse"
   ]
  },
  {
   "cell_type": "code",
   "execution_count": null,
   "metadata": {},
   "outputs": [],
   "source": []
  },
  {
   "cell_type": "markdown",
   "metadata": {},
   "source": [
    "### 2.3:Q2 Exercise: \n",
    "Multivalued relations can be defined using blank nodes `[]`. Blank nodes do not have any URI and are not accessible from outside. \n",
    "\n",
    "Write a Turtle definition for the following recipe (book fig. 2.7):   \n",
    "Chutney has the ingredients:\n",
    "    * mango, 1lb\n",
    "    * cayene pepper, 1tsp\n",
    "    \n",
    "*HINT: it might be helpful to draw a diagram first, see slides 2.3 p.15*"
   ]
  },
  {
   "cell_type": "code",
   "execution_count": null,
   "metadata": {},
   "outputs": [],
   "source": []
  },
  {
   "cell_type": "markdown",
   "metadata": {},
   "source": [
    "### 2.3:Q3 Exercise:\n",
    "Write the Turtle syntax which is equivalent to the below illustration. Notice the deferenceable blank nodes have ids which make them easier to reference from within a single graph.\n",
    "\n",
    "<img src=\"ex2.3.png\">"
   ]
  },
  {
   "cell_type": "code",
   "execution_count": null,
   "metadata": {},
   "outputs": [],
   "source": []
  },
  {
   "cell_type": "markdown",
   "metadata": {},
   "source": [
    "### 2.3:Q4 Discussion topics: \n",
    "* What are the pros and cons of using blank nodes? \n",
    "* Are there tools that convert between Turtle and RDF/XML?\n",
    "    * see also: The W3C Validator is found at http://www.w3.org/RDF/Validator/"
   ]
  },
  {
   "cell_type": "code",
   "execution_count": null,
   "metadata": {},
   "outputs": [],
   "source": []
  },
  {
   "cell_type": "markdown",
   "metadata": {},
   "source": [
    "## 2.4 RDF Complex Data Structures\n",
    "* __RDF lists__ - helper construct (syntactic sugar)\n",
    "    * Containers - open lists which can be extended\n",
    "        * Bag - unordered set\n",
    "        * Seq - ordered set\n",
    "        * Alt - alternative\n",
    "        * A container is a blank node like: `ex:contain [a rdf:Bag ; ... ]` \n",
    "    * Collections - closed lists like a *linked list* in OOP which has a *Head* and a *Tail*\n",
    "        * A collection is defined by `ex:contain (...)`\n",
    "\n",
    "\n",
    "* __Reification__ - statements about statements\n",
    "    * a triple represented as an entity: `rdf:Statement`\n",
    "    * Uses:\n",
    "        * Provenance\n",
    "        * Reliability/Trust\n",
    "        * Metadata\n",
    "    * Gotchas:\n",
    "        * Type conflicts\n",
    "        * infinte loops\n",
    "        "
   ]
  },
  {
   "cell_type": "markdown",
   "metadata": {},
   "source": [
    "### 2.4:Q1 \n",
    "*(book Exercise 2.5)*    \n",
    "Decide whether the following propositions can be satisfactorily modeled in RDFS and, if so, give the corresponding RDF(S) specification.\n",
    "* Every pizza is a meal. \n",
    "* Pizzas always have at least two toppings. \n",
    "* Every pizza from the class PizzaMargarita has a Tomato topping. \n",
    "* Everything having a topping is a pizza.\n",
    "* No pizza from the class PizzaMargarita has a topping from the class Meat.\n",
    "* “Having a topping” is a containedness relation."
   ]
  },
  {
   "cell_type": "code",
   "execution_count": null,
   "metadata": {},
   "outputs": [],
   "source": []
  },
  {
   "cell_type": "markdown",
   "metadata": {},
   "source": [
    "### 2.4:Q2\n",
    "*(book Exercise 2.4)*  \n",
    "Represent the following sentences graphically by means of reified triples:\n",
    "* Romeo thought that Juliet was dead. \n",
    "* John believes that Mary wants to marry him. \n",
    "* The dwarf noticed that somebody had been eating from his plate.\n"
   ]
  },
  {
   "cell_type": "code",
   "execution_count": null,
   "metadata": {},
   "outputs": [],
   "source": []
  },
  {
   "cell_type": "markdown",
   "metadata": {},
   "source": [
    "## 2.5 Model Building with RDFS\n",
    "\n",
    "### Semantic expressivity - \"meaning\"\n",
    "#### RDF Schema - RDF Vocabulary Description Language\n",
    "RDF is extended to the *ontology language* RDF Schema (RDFS)\n",
    "* Classes and class instantiation\n",
    "* Properties with domain and range restrictions\n",
    "* Everything in RDF is an RDF Resource\n",
    "\n",
    "Example:\n",
    "```\n",
    "ex:Textbook rdf:type rdfs:Class . \n",
    "book:uri rdf:type ex:Textbook . \n",
    "ex:Textbook rdfs:subClassOf ex:Book . \n",
    "ex:Book rdfs:subClassOf ex:PrintMedia .\n",
    "ex:Journal rdfs:subClassOf ex:PrintMedia .\n",
    "\n",
    "rdfs:Class rdf:type rdfs:Class . \n",
    "```\n",
    "__Notational convention:__ URIs representing classes are usually capitalized, whereas names for instances and properties are written in lower case."
   ]
  },
  {
   "cell_type": "markdown",
   "metadata": {},
   "source": [
    "### 2.5:Q1\n",
    "Using the above example,    \n",
    "    1) write a triple which illustrates the *transitive* relationship    \n",
    "    2) write a triple which illustrates the *reflexive* relationship    \n",
    "    3) provide an example which illustrates *extensionally equivalent* classes   "
   ]
  },
  {
   "cell_type": "code",
   "execution_count": null,
   "metadata": {},
   "outputs": [],
   "source": []
  },
  {
   "cell_type": "markdown",
   "metadata": {},
   "source": [
    "### 2.5:Q2\n",
    "Domain and range restrictions constitute the “semantic link” between classes and properties.    \n",
    "\n",
    "Given the triple: `a ex:isMarriedTo b .`, write the domain and range restrictions for `isMarriedTo` which will allow us to assert that both `a` and `b` are of `rdf:type ex:Person`"
   ]
  },
  {
   "cell_type": "code",
   "execution_count": null,
   "metadata": {},
   "outputs": [],
   "source": []
  },
  {
   "cell_type": "code",
   "execution_count": null,
   "metadata": {},
   "outputs": [],
   "source": []
  },
  {
   "cell_type": "code",
   "execution_count": null,
   "metadata": {},
   "outputs": [],
   "source": []
  },
  {
   "cell_type": "code",
   "execution_count": null,
   "metadata": {},
   "outputs": [],
   "source": []
  },
  {
   "cell_type": "markdown",
   "metadata": {},
   "source": [
    "## 2.6 Logical Inference with RDF(S)\n",
    "* __Formal semantics__ the logical dimension of the notion of semantics. Allows us to draw sound and valid logical inferences\n",
    "* First Order Logic"
   ]
  },
  {
   "cell_type": "code",
   "execution_count": null,
   "metadata": {},
   "outputs": [],
   "source": []
  },
  {
   "cell_type": "code",
   "execution_count": null,
   "metadata": {},
   "outputs": [],
   "source": []
  },
  {
   "cell_type": "code",
   "execution_count": null,
   "metadata": {},
   "outputs": [],
   "source": []
  },
  {
   "cell_type": "code",
   "execution_count": null,
   "metadata": {},
   "outputs": [],
   "source": []
  },
  {
   "cell_type": "markdown",
   "metadata": {},
   "source": [
    "## 2.7 Excursion 1 RDFa - RDF on the Web\n",
    "* Microformats - use native html markup like `class`, `span`, etc., ex: `<div class=\"vcard\"`>\n",
    "* RDFa - RDF in html __a__ttributes like `href`, `src`, `vocab`, etc. ex: `<p vocab=\"http//xmlns.com/foaf/0.1/\" typeof=\"Person\">`\n",
    "* HTML5 and schema.org"
   ]
  },
  {
   "cell_type": "markdown",
   "metadata": {},
   "source": [
    "### 2.7:Q1 Discussion topic:\n",
    "* Obstacles to adoption "
   ]
  },
  {
   "cell_type": "code",
   "execution_count": null,
   "metadata": {},
   "outputs": [],
   "source": []
  },
  {
   "cell_type": "markdown",
   "metadata": {},
   "source": [
    "### 2.7:Q2 Discussion topic:\n",
    "* RDFa for SEO"
   ]
  },
  {
   "cell_type": "code",
   "execution_count": null,
   "metadata": {},
   "outputs": [],
   "source": []
  },
  {
   "cell_type": "markdown",
   "metadata": {},
   "source": [
    "## See also\n",
    "There are also very good exercises and projects at the end of Chapter 2 of A Semantic Web Primer."
   ]
  },
  {
   "cell_type": "code",
   "execution_count": null,
   "metadata": {},
   "outputs": [],
   "source": []
  }
 ],
 "metadata": {
  "kernelspec": {
   "display_name": "Python 3",
   "language": "python",
   "name": "python3"
  },
  "language_info": {
   "codemirror_mode": {
    "name": "ipython",
    "version": 3
   },
   "file_extension": ".py",
   "mimetype": "text/x-python",
   "name": "python",
   "nbconvert_exporter": "python",
   "pygments_lexer": "ipython3",
   "version": "3.7.3"
  }
 },
 "nbformat": 4,
 "nbformat_minor": 4
}
