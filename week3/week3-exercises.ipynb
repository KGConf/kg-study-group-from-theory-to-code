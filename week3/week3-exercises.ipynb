{
 "cells": [
  {
   "cell_type": "markdown",
   "metadata": {},
   "source": [
    "# Week 3 "
   ]
  },
  {
   "cell_type": "markdown",
   "metadata": {},
   "source": [
    "## SPARQL: Protocol and RDF Query Language\n",
    "Specification: https://www.w3.org/TR/sparql11-query/"
   ]
  },
  {
   "cell_type": "markdown",
   "metadata": {},
   "source": [
    "* 3.1 How to Query RDF(S)\n",
    "    * Excursion 2: DBpedia Knowledge Graph https://dbpedia.org/snorql/\n",
    "    * Excursion 3: Wikidata Knowledge Graph https://query.wikidata.org/\n",
    "* 3.2 Complex Queries with SPARQL\n",
    "* 3.3 More Complex SPARQL Queries\n",
    "* 3.4 SPARQL Subqueries and Property Paths\n",
    "* 3.5 RDF Databases\n",
    "* 3.6 SPARQL is more than a Query Language"
   ]
  },
  {
   "cell_type": "code",
   "execution_count": 148,
   "metadata": {},
   "outputs": [],
   "source": [
    "from IPython.display import Image\n",
    "import urllib\n",
    "import pandas as pd\n",
    "import networkx as nx\n",
    "from graphviz import Digraph\n",
    "import matplotlib.pyplot as plt\n",
    "%matplotlib inline"
   ]
  },
  {
   "cell_type": "markdown",
   "metadata": {},
   "source": [
    "# Preliminaries"
   ]
  },
  {
   "cell_type": "markdown",
   "metadata": {},
   "source": [
    "## Semantic Web Tools\n",
    "Jena and Protege are probably the best known, but there are also others:\n",
    "* https://www.w3.org/wiki/SemanticWebTools#Python_Developers\n",
    "* https://www.w3.org/2001/sw/wiki/ToolTable"
   ]
  },
  {
   "cell_type": "markdown",
   "metadata": {},
   "source": [
    "## Graphing tools\n",
    "Sometimes it helps to visualize the graph. The rdf-grapher service does just that.\n",
    "\n",
    "https://www.ldf.fi/service/rdf-grapher\n",
    "    \n",
    "Usage:   \n",
    "`http://www.ldf.fi/service/rdf-grapher?rdf=DATA_OR_URI&from=FORMAT&to=FORMAT`\n",
    "\n",
    "GET/POST parameters:\n",
    "\n",
    "* rdf\tRDF data or URI\n",
    "* from\tinput serialization format (ttl, xml, json, nt, trig, nq), default: ttl\n",
    "* to\toutput image format (png, svg, pdf, ps, eps, gif, jpg), default: png\n",
    "\n",
    "Example:   \n",
    "`http://www.ldf.fi/service/rdf-grapher?rdf=<http://example.com/s>+<http://example.com/p>+<http://example.com/o>+.&from=ttl&to=png`\n",
    "<img src=\"https://www.ldf.fi/service/rdf-grapher?rdf=%3Chttp://example.com/s%3E+%3Chttp://example.com/p%3E+%3Chttp://example.com/o%3E+.&from=ttl&to=png\">"
   ]
  },
  {
   "cell_type": "markdown",
   "metadata": {},
   "source": [
    "### Programatic example:"
   ]
  },
  {
   "cell_type": "code",
   "execution_count": 21,
   "metadata": {},
   "outputs": [],
   "source": [
    "# 3.2 Complex SPARQL Queries Question 1\n",
    "# url encode the rdf string which will be passed to the query parameter 'rdf'\n",
    "rdf_string=urllib.parse.quote_plus(\"\"\"\n",
    "@prefix schema: <https://schema.org/> .\n",
    "@prefix owl: <http://www.w3.org/2002/07/owl#> .\n",
    "@prefix ex: <https://example.org/resource/> .\n",
    "@prefix dbr: <http://dbpedia.org/resource/> .\n",
    "@prefix dbo: <http://dbpedia.org/ontology/> .\n",
    "@prefix xsd: <http://www.w3.org/2001/XMLSchema#> .\n",
    "@prefix rdfs: <http://www.w3.org/2000/01/rdf-schema#> .\n",
    "\n",
    "ex:SpaceForce ex:network dbr:Netflix ;\n",
    "    schema:genre ex:Space ;\n",
    "    schema:actor dbr:Steve_Carell,\n",
    "        dbr:John_Malkovich ;\n",
    "    schema:datePublished \"2020-05-29\"^^xsd:date ;\n",
    "    rdfs:label \"Space Force\"@en .\n",
    "ex:The_Office_US schema:genre dbr:Mockumentary ;\n",
    "    schema:actor dbr:Steve_Carell ,\n",
    "        dbr:John_Krasinski ;\n",
    "    ex:episodes \"201\" ;\n",
    "    schema:datePublished \"2005-03-24\"^^xsd:date ;\n",
    "    rdfs:label \"Das Büro\"@de ,\n",
    "        \"The Office\"@en .\n",
    "dbr:Westworld ex:network dbr:HBO ;\n",
    "    schema:genre dbr:Western ;\n",
    "    ex:episodes \"28\" ;\n",
    "    schema:datePublished \"2016-10-02\"^^xsd:date ;\n",
    "    schema:isBasedOn dbr:Westworld_\\(film\\) .\n",
    "ex:Star_Trek:Picard ex:network ex:CBS ;\n",
    "    schema:genre ex:Space ;\n",
    "    ex:episodes \"10\" ;\n",
    "    schema:datePublished \"2020-03-23\"^^xsd:date .\n",
    "dbr:Bird_Box_\\(film\\) schema:actor dbr:John_Malkovich ;\n",
    "    schema:datePublished \"2018-11-12\"^^xsd:date .\n",
    "\"\"\")"
   ]
  },
  {
   "cell_type": "code",
   "execution_count": 69,
   "metadata": {},
   "outputs": [
    {
     "data": {
      "text/html": [
       "<img src=\"http://www.ldf.fi/service/rdf-grapher?rdf=%0A%40prefix+schema%3A+%3Chttps%3A%2F%2Fschema.org%2F%3E+.%0A%40prefix+owl%3A+%3Chttp%3A%2F%2Fwww.w3.org%2F2002%2F07%2Fowl%23%3E+.%0A%40prefix+ex%3A+%3Chttps%3A%2F%2Fexample.org%2Fresource%2F%3E+.%0A%40prefix+dbr%3A+%3Chttp%3A%2F%2Fdbpedia.org%2Fresource%2F%3E+.%0A%40prefix+dbo%3A+%3Chttp%3A%2F%2Fdbpedia.org%2Fontology%2F%3E+.%0A%40prefix+xsd%3A+%3Chttp%3A%2F%2Fwww.w3.org%2F2001%2FXMLSchema%23%3E+.%0A%40prefix+rdfs%3A+%3Chttp%3A%2F%2Fwww.w3.org%2F2000%2F01%2Frdf-schema%23%3E+.%0A%0Aex%3ASpaceForce+ex%3Anetwork+dbr%3ANetflix+%3B%0A++++schema%3Agenre+ex%3ASpace+%3B%0A++++schema%3Aactor+dbr%3ASteve_Carell%2C%0A++++++++dbr%3AJohn_Malkovich+%3B%0A++++schema%3AdatePublished+%222020-05-29%22%5E%5Exsd%3Adate+%3B%0A++++rdfs%3Alabel+%22Space+Force%22%40en+.%0Aex%3AThe_Office_US+schema%3Agenre+dbr%3AMockumentary+%3B%0A++++schema%3Aactor+dbr%3ASteve_Carell+%2C%0A++++++++dbr%3AJohn_Krasinski+%3B%0A++++ex%3Aepisodes+%22201%22+%3B%0A++++schema%3AdatePublished+%222005-03-24%22%5E%5Exsd%3Adate+%3B%0A++++rdfs%3Alabel+%22Das+B%C3%BCro%22%40de+%2C%0A++++++++%22The+Office%22%40en+.%0Adbr%3AWestworld+ex%3Anetwork+dbr%3AHBO+%3B%0A++++schema%3Agenre+dbr%3AWestern+%3B%0A++++ex%3Aepisodes+%2228%22+%3B%0A++++schema%3AdatePublished+%222016-10-02%22%5E%5Exsd%3Adate+%3B%0A++++schema%3AisBasedOn+dbr%3AWestworld_%5C%28film%5C%29+.%0Aex%3AStar_Trek%3APicard+ex%3Anetwork+ex%3ACBS+%3B%0A++++schema%3Agenre+ex%3ASpace+%3B%0A++++ex%3Aepisodes+%2210%22+%3B%0A++++schema%3AdatePublished+%222020-03-23%22%5E%5Exsd%3Adate+.%0Adbr%3ABird_Box_%5C%28film%5C%29+schema%3Aactor+dbr%3AJohn_Malkovich+%3B%0A++++schema%3AdatePublished+%222018-11-12%22%5E%5Exsd%3Adate+.%0A&from=ttl&to=png\"/>"
      ],
      "text/plain": [
       "<IPython.core.display.Image object>"
      ]
     },
     "execution_count": 69,
     "metadata": {},
     "output_type": "execute_result"
    }
   ],
   "source": [
    "Image(url='http://www.ldf.fi/service/rdf-grapher?rdf='+rdf_string+'&from=ttl&to=png') "
   ]
  },
  {
   "cell_type": "markdown",
   "metadata": {},
   "source": [
    "## Query Dbpedia and visualize result\n",
    "https://dbpedia.org/snorql/"
   ]
  },
  {
   "cell_type": "code",
   "execution_count": 143,
   "metadata": {},
   "outputs": [],
   "source": [
    "sparql_string=urllib.parse.quote_plus(\"\"\"\n",
    "PREFIX rdf: <http://www.w3.org/1999/02/22-rdf-syntax-ns#>\n",
    "PREFIX dbo: <http://dbpedia.org/ontology/>\n",
    "SELECT ?author ?work\n",
    "WHERE {\n",
    "?author rdf:type dbo:Writer ;\n",
    "dbo:notableWork ?work .\n",
    "} LIMIT 10\n",
    "\"\"\")"
   ]
  },
  {
   "cell_type": "code",
   "execution_count": 144,
   "metadata": {},
   "outputs": [
    {
     "name": "stdout",
     "output_type": "stream",
     "text": [
      "  % Total    % Received % Xferd  Average Speed   Time    Time     Time  Current\n",
      "                                 Dload  Upload   Total   Spent    Left  Speed\n",
      "100   153  100   153    0     0   3825      0 --:--:-- --:--:-- --:--:--  3825\n",
      "100  2545  100  2545    0     0  19427      0 --:--:-- --:--:-- --:--:-- 19427\n"
     ]
    }
   ],
   "source": [
    "!curl -L -H \"Accept: text/html\" --request GET \"http://dbpedia.org/sparql?default-graph-uri=http://dbpedia.org&query={sparql_string}\" > resultTable.html"
   ]
  },
  {
   "cell_type": "code",
   "execution_count": 145,
   "metadata": {},
   "outputs": [
    {
     "data": {
      "text/html": [
       "<div>\n",
       "<style scoped>\n",
       "    .dataframe tbody tr th:only-of-type {\n",
       "        vertical-align: middle;\n",
       "    }\n",
       "\n",
       "    .dataframe tbody tr th {\n",
       "        vertical-align: top;\n",
       "    }\n",
       "\n",
       "    .dataframe thead th {\n",
       "        text-align: right;\n",
       "    }\n",
       "</style>\n",
       "<table border=\"1\" class=\"dataframe\">\n",
       "  <thead>\n",
       "    <tr style=\"text-align: right;\">\n",
       "      <th></th>\n",
       "      <th>author</th>\n",
       "      <th>work</th>\n",
       "    </tr>\n",
       "  </thead>\n",
       "  <tbody>\n",
       "    <tr>\n",
       "      <th>0</th>\n",
       "      <td>http://dbpedia.org/resource/A._J._Healy</td>\n",
       "      <td>http://dbpedia.org/resource/Tommy_Storm_and_th...</td>\n",
       "    </tr>\n",
       "    <tr>\n",
       "      <th>1</th>\n",
       "      <td>http://dbpedia.org/resource/A._J._Healy</td>\n",
       "      <td>http://dbpedia.org/resource/Tommy_Storm</td>\n",
       "    </tr>\n",
       "    <tr>\n",
       "      <th>2</th>\n",
       "      <td>http://dbpedia.org/resource/A._S._PatriÄ</td>\n",
       "      <td>http://dbpedia.org/resource/Black_Rock_White_City</td>\n",
       "    </tr>\n",
       "    <tr>\n",
       "      <th>3</th>\n",
       "      <td>http://dbpedia.org/resource/Lowell_Cunningham</td>\n",
       "      <td>http://dbpedia.org/resource/The_Men_in_Black_(...</td>\n",
       "    </tr>\n",
       "    <tr>\n",
       "      <th>4</th>\n",
       "      <td>http://dbpedia.org/resource/Lu_Xun</td>\n",
       "      <td>http://dbpedia.org/resource/Kong_Yiji</td>\n",
       "    </tr>\n",
       "  </tbody>\n",
       "</table>\n",
       "</div>"
      ],
      "text/plain": [
       "                                          author  \\\n",
       "0        http://dbpedia.org/resource/A._J._Healy   \n",
       "1        http://dbpedia.org/resource/A._J._Healy   \n",
       "2      http://dbpedia.org/resource/A._S._PatriÄ   \n",
       "3  http://dbpedia.org/resource/Lowell_Cunningham   \n",
       "4             http://dbpedia.org/resource/Lu_Xun   \n",
       "\n",
       "                                                work  \n",
       "0  http://dbpedia.org/resource/Tommy_Storm_and_th...  \n",
       "1            http://dbpedia.org/resource/Tommy_Storm  \n",
       "2  http://dbpedia.org/resource/Black_Rock_White_City  \n",
       "3  http://dbpedia.org/resource/The_Men_in_Black_(...  \n",
       "4              http://dbpedia.org/resource/Kong_Yiji  "
      ]
     },
     "execution_count": 145,
     "metadata": {},
     "output_type": "execute_result"
    }
   ],
   "source": [
    "# because everything is easier with Pandas:\n",
    "table=pd.read_html('resultTable.html')[0]\n",
    "table.head()\n",
    "# auth = table.iloc(0)[0]['author'].split('/')[-1].replace('_',' ')\n",
    "# work = table.iloc(0)[0]['work'].split('/')[-1].replace('_',' ')\n",
    "# print(auth)\n",
    "# print(work)"
   ]
  },
  {
   "cell_type": "code",
   "execution_count": 146,
   "metadata": {},
   "outputs": [
    {
     "data": {
      "image/svg+xml": [
       "<?xml version=\"1.0\" encoding=\"UTF-8\" standalone=\"no\"?>\n",
       "<!DOCTYPE svg PUBLIC \"-//W3C//DTD SVG 1.1//EN\"\n",
       " \"http://www.w3.org/Graphics/SVG/1.1/DTD/svg11.dtd\">\n",
       "<!-- Generated by graphviz version 2.40.1 (20161225.0304)\n",
       " -->\n",
       "<!-- Title: %3 Pages: 1 -->\n",
       "<svg width=\"561pt\" height=\"530pt\"\n",
       " viewBox=\"0.00 0.00 560.86 530.00\" xmlns=\"http://www.w3.org/2000/svg\" xmlns:xlink=\"http://www.w3.org/1999/xlink\">\n",
       "<g id=\"graph0\" class=\"graph\" transform=\"scale(1 1) rotate(0) translate(4 526)\">\n",
       "<title>%3</title>\n",
       "<polygon fill=\"#ffffff\" stroke=\"transparent\" points=\"-4,4 -4,-526 556.857,-526 556.857,4 -4,4\"/>\n",
       "<!-- A. J. Healy -->\n",
       "<g id=\"node1\" class=\"node\">\n",
       "<title>A. J. Healy</title>\n",
       "<ellipse fill=\"none\" stroke=\"#000000\" cx=\"85.7924\" cy=\"-45\" rx=\"51.1914\" ry=\"18\"/>\n",
       "<text text-anchor=\"middle\" x=\"85.7924\" y=\"-41.3\" font-family=\"Times,serif\" font-size=\"14.00\" fill=\"#000000\">A. J. Healy</text>\n",
       "</g>\n",
       "<!-- Tommy Storm and the Galactic Knights -->\n",
       "<g id=\"node2\" class=\"node\">\n",
       "<title>Tommy Storm and the Galactic Knights</title>\n",
       "<ellipse fill=\"none\" stroke=\"#000000\" cx=\"396.2209\" cy=\"-72\" rx=\"156.7723\" ry=\"18\"/>\n",
       "<text text-anchor=\"middle\" x=\"396.2209\" y=\"-68.3\" font-family=\"Times,serif\" font-size=\"14.00\" fill=\"#000000\">Tommy Storm and the Galactic Knights</text>\n",
       "</g>\n",
       "<!-- A. J. Healy&#45;&gt;Tommy Storm and the Galactic Knights -->\n",
       "<g id=\"edge1\" class=\"edge\">\n",
       "<title>A. J. Healy&#45;&gt;Tommy Storm and the Galactic Knights</title>\n",
       "<path fill=\"none\" stroke=\"#000000\" d=\"M135.6681,-49.338C169.6867,-52.2968 216.4876,-56.3674 261.0475,-60.2431\"/>\n",
       "<polygon fill=\"#000000\" stroke=\"#000000\" points=\"260.8471,-63.7388 271.1128,-61.1185 261.4537,-56.7651 260.8471,-63.7388\"/>\n",
       "<text text-anchor=\"middle\" x=\"205.5848\" y=\"-60.8\" font-family=\"Times,serif\" font-size=\"14.00\" fill=\"#000000\">wrote</text>\n",
       "</g>\n",
       "<!-- Tommy Storm -->\n",
       "<g id=\"node3\" class=\"node\">\n",
       "<title>Tommy Storm</title>\n",
       "<ellipse fill=\"none\" stroke=\"#000000\" cx=\"396.2209\" cy=\"-18\" rx=\"64.189\" ry=\"18\"/>\n",
       "<text text-anchor=\"middle\" x=\"396.2209\" y=\"-14.3\" font-family=\"Times,serif\" font-size=\"14.00\" fill=\"#000000\">Tommy Storm</text>\n",
       "</g>\n",
       "<!-- A. J. Healy&#45;&gt;Tommy Storm -->\n",
       "<g id=\"edge2\" class=\"edge\">\n",
       "<title>A. J. Healy&#45;&gt;Tommy Storm</title>\n",
       "<path fill=\"none\" stroke=\"#000000\" d=\"M135.6681,-40.662C186.7593,-36.2182 266.682,-29.2668 324.5436,-24.2342\"/>\n",
       "<polygon fill=\"#000000\" stroke=\"#000000\" points=\"325.0572,-27.7029 334.7163,-23.3495 324.4506,-20.7292 325.0572,-27.7029\"/>\n",
       "<text text-anchor=\"middle\" x=\"205.5848\" y=\"-39.8\" font-family=\"Times,serif\" font-size=\"14.00\" fill=\"#000000\">wrote</text>\n",
       "</g>\n",
       "<!-- A. S. PatriÄ -->\n",
       "<g id=\"node4\" class=\"node\">\n",
       "<title>A. S. PatriÄ</title>\n",
       "<ellipse fill=\"none\" stroke=\"#000000\" cx=\"85.7924\" cy=\"-126\" rx=\"55.4913\" ry=\"18\"/>\n",
       "<text text-anchor=\"middle\" x=\"85.7924\" y=\"-122.3\" font-family=\"Times,serif\" font-size=\"14.00\" fill=\"#000000\">A. S. PatriÄ</text>\n",
       "</g>\n",
       "<!-- Black Rock White City -->\n",
       "<g id=\"node5\" class=\"node\">\n",
       "<title>Black Rock White City</title>\n",
       "<ellipse fill=\"none\" stroke=\"#000000\" cx=\"396.2209\" cy=\"-126\" rx=\"96.3833\" ry=\"18\"/>\n",
       "<text text-anchor=\"middle\" x=\"396.2209\" y=\"-122.3\" font-family=\"Times,serif\" font-size=\"14.00\" fill=\"#000000\">Black Rock White City</text>\n",
       "</g>\n",
       "<!-- A. S. PatriÄ&#45;&gt;Black Rock White City -->\n",
       "<g id=\"edge3\" class=\"edge\">\n",
       "<title>A. S. PatriÄ&#45;&gt;Black Rock White City</title>\n",
       "<path fill=\"none\" stroke=\"#000000\" d=\"M141.2908,-126C182.4058,-126 239.709,-126 289.5747,-126\"/>\n",
       "<polygon fill=\"#000000\" stroke=\"#000000\" points=\"289.7674,-129.5001 299.7673,-126 289.7673,-122.5001 289.7674,-129.5001\"/>\n",
       "<text text-anchor=\"middle\" x=\"205.5848\" y=\"-129.8\" font-family=\"Times,serif\" font-size=\"14.00\" fill=\"#000000\">wrote</text>\n",
       "</g>\n",
       "<!-- Lowell Cunningham -->\n",
       "<g id=\"node6\" class=\"node\">\n",
       "<title>Lowell Cunningham</title>\n",
       "<ellipse fill=\"none\" stroke=\"#000000\" cx=\"85.7924\" cy=\"-180\" rx=\"85.5853\" ry=\"18\"/>\n",
       "<text text-anchor=\"middle\" x=\"85.7924\" y=\"-176.3\" font-family=\"Times,serif\" font-size=\"14.00\" fill=\"#000000\">Lowell Cunningham</text>\n",
       "</g>\n",
       "<!-- The Men in Black (comics) -->\n",
       "<g id=\"node7\" class=\"node\">\n",
       "<title>The Men in Black (comics)</title>\n",
       "<ellipse fill=\"none\" stroke=\"#000000\" cx=\"396.2209\" cy=\"-180\" rx=\"110.4804\" ry=\"18\"/>\n",
       "<text text-anchor=\"middle\" x=\"396.2209\" y=\"-176.3\" font-family=\"Times,serif\" font-size=\"14.00\" fill=\"#000000\">The Men in Black (comics)</text>\n",
       "</g>\n",
       "<!-- Lowell Cunningham&#45;&gt;The Men in Black (comics) -->\n",
       "<g id=\"edge4\" class=\"edge\">\n",
       "<title>Lowell Cunningham&#45;&gt;The Men in Black (comics)</title>\n",
       "<path fill=\"none\" stroke=\"#000000\" d=\"M171.8518,-180C203.861,-180 240.8024,-180 275.3533,-180\"/>\n",
       "<polygon fill=\"#000000\" stroke=\"#000000\" points=\"275.5083,-183.5001 285.5082,-180 275.5082,-176.5001 275.5083,-183.5001\"/>\n",
       "<text text-anchor=\"middle\" x=\"205.5848\" y=\"-183.8\" font-family=\"Times,serif\" font-size=\"14.00\" fill=\"#000000\">wrote</text>\n",
       "</g>\n",
       "<!-- Lu Xun -->\n",
       "<g id=\"node8\" class=\"node\">\n",
       "<title>Lu Xun</title>\n",
       "<ellipse fill=\"none\" stroke=\"#000000\" cx=\"85.7924\" cy=\"-288\" rx=\"38.9931\" ry=\"18\"/>\n",
       "<text text-anchor=\"middle\" x=\"85.7924\" y=\"-284.3\" font-family=\"Times,serif\" font-size=\"14.00\" fill=\"#000000\">Lu Xun</text>\n",
       "</g>\n",
       "<!-- Kong Yiji -->\n",
       "<g id=\"node9\" class=\"node\">\n",
       "<title>Kong Yiji</title>\n",
       "<ellipse fill=\"none\" stroke=\"#000000\" cx=\"396.2209\" cy=\"-342\" rx=\"47.3916\" ry=\"18\"/>\n",
       "<text text-anchor=\"middle\" x=\"396.2209\" y=\"-338.3\" font-family=\"Times,serif\" font-size=\"14.00\" fill=\"#000000\">Kong Yiji</text>\n",
       "</g>\n",
       "<!-- Lu Xun&#45;&gt;Kong Yiji -->\n",
       "<g id=\"edge5\" class=\"edge\">\n",
       "<title>Lu Xun&#45;&gt;Kong Yiji</title>\n",
       "<path fill=\"none\" stroke=\"#000000\" d=\"M122.2773,-294.801C142.1632,-298.4771 167.2139,-303.058 189.5848,-307 241.5577,-316.1582 300.968,-326.1738 342.7051,-333.1356\"/>\n",
       "<polygon fill=\"#000000\" stroke=\"#000000\" points=\"342.2153,-336.6021 352.6545,-334.7931 343.3657,-329.6973 342.2153,-336.6021\"/>\n",
       "<text text-anchor=\"middle\" x=\"205.5848\" y=\"-314.8\" font-family=\"Times,serif\" font-size=\"14.00\" fill=\"#000000\">wrote</text>\n",
       "</g>\n",
       "<!-- The True Story of Ah Q -->\n",
       "<g id=\"node10\" class=\"node\">\n",
       "<title>The True Story of Ah Q</title>\n",
       "<ellipse fill=\"none\" stroke=\"#000000\" cx=\"396.2209\" cy=\"-288\" rx=\"98.2828\" ry=\"18\"/>\n",
       "<text text-anchor=\"middle\" x=\"396.2209\" y=\"-284.3\" font-family=\"Times,serif\" font-size=\"14.00\" fill=\"#000000\">The True Story of Ah Q</text>\n",
       "</g>\n",
       "<!-- Lu Xun&#45;&gt;The True Story of Ah Q -->\n",
       "<g id=\"edge6\" class=\"edge\">\n",
       "<title>Lu Xun&#45;&gt;The True Story of Ah Q</title>\n",
       "<path fill=\"none\" stroke=\"#000000\" d=\"M124.794,-288C165.5027,-288 231.1666,-288 287.7112,-288\"/>\n",
       "<polygon fill=\"#000000\" stroke=\"#000000\" points=\"287.7904,-291.5001 297.7903,-288 287.7903,-284.5001 287.7904,-291.5001\"/>\n",
       "<text text-anchor=\"middle\" x=\"205.5848\" y=\"-291.8\" font-family=\"Times,serif\" font-size=\"14.00\" fill=\"#000000\">wrote</text>\n",
       "</g>\n",
       "<!-- A Madman&#39;s Diary -->\n",
       "<g id=\"node11\" class=\"node\">\n",
       "<title>A Madman&#39;s Diary</title>\n",
       "<ellipse fill=\"none\" stroke=\"#000000\" cx=\"396.2209\" cy=\"-234\" rx=\"79.8859\" ry=\"18\"/>\n",
       "<text text-anchor=\"middle\" x=\"396.2209\" y=\"-230.3\" font-family=\"Times,serif\" font-size=\"14.00\" fill=\"#000000\">A Madman&#39;s Diary</text>\n",
       "</g>\n",
       "<!-- Lu Xun&#45;&gt;A Madman&#39;s Diary -->\n",
       "<g id=\"edge7\" class=\"edge\">\n",
       "<title>Lu Xun&#45;&gt;A Madman&#39;s Diary</title>\n",
       "<path fill=\"none\" stroke=\"#000000\" d=\"M122.2773,-281.199C142.1632,-277.5229 167.2139,-272.942 189.5848,-269 233.2618,-261.3036 282.1914,-253.0017 321.4702,-246.4156\"/>\n",
       "<polygon fill=\"#000000\" stroke=\"#000000\" points=\"322.2139,-249.8399 331.4985,-244.7362 321.0577,-242.936 322.2139,-249.8399\"/>\n",
       "<text text-anchor=\"middle\" x=\"205.5848\" y=\"-272.8\" font-family=\"Times,serif\" font-size=\"14.00\" fill=\"#000000\">wrote</text>\n",
       "</g>\n",
       "<!-- Lu Yao -->\n",
       "<g id=\"node12\" class=\"node\">\n",
       "<title>Lu Yao</title>\n",
       "<ellipse fill=\"none\" stroke=\"#000000\" cx=\"85.7924\" cy=\"-396\" rx=\"38.1938\" ry=\"18\"/>\n",
       "<text text-anchor=\"middle\" x=\"85.7924\" y=\"-392.3\" font-family=\"Times,serif\" font-size=\"14.00\" fill=\"#000000\">Lu Yao</text>\n",
       "</g>\n",
       "<!-- Ordinary World (novel) -->\n",
       "<g id=\"node13\" class=\"node\">\n",
       "<title>Ordinary World (novel)</title>\n",
       "<ellipse fill=\"none\" stroke=\"#000000\" cx=\"396.2209\" cy=\"-396\" rx=\"97.4827\" ry=\"18\"/>\n",
       "<text text-anchor=\"middle\" x=\"396.2209\" y=\"-392.3\" font-family=\"Times,serif\" font-size=\"14.00\" fill=\"#000000\">Ordinary World (novel)</text>\n",
       "</g>\n",
       "<!-- Lu Yao&#45;&gt;Ordinary World (novel) -->\n",
       "<g id=\"edge8\" class=\"edge\">\n",
       "<title>Lu Yao&#45;&gt;Ordinary World (novel)</title>\n",
       "<path fill=\"none\" stroke=\"#000000\" d=\"M124.1684,-396C165.0272,-396 231.5253,-396 288.5479,-396\"/>\n",
       "<polygon fill=\"#000000\" stroke=\"#000000\" points=\"288.709,-399.5001 298.709,-396 288.7089,-392.5001 288.709,-399.5001\"/>\n",
       "<text text-anchor=\"middle\" x=\"205.5848\" y=\"-399.8\" font-family=\"Times,serif\" font-size=\"14.00\" fill=\"#000000\">wrote</text>\n",
       "</g>\n",
       "<!-- Lucian -->\n",
       "<g id=\"node14\" class=\"node\">\n",
       "<title>Lucian</title>\n",
       "<ellipse fill=\"none\" stroke=\"#000000\" cx=\"85.7924\" cy=\"-477\" rx=\"35.9954\" ry=\"18\"/>\n",
       "<text text-anchor=\"middle\" x=\"85.7924\" y=\"-473.3\" font-family=\"Times,serif\" font-size=\"14.00\" fill=\"#000000\">Lucian</text>\n",
       "</g>\n",
       "<!-- Dialogues of the Courtesans -->\n",
       "<g id=\"node15\" class=\"node\">\n",
       "<title>Dialogues of the Courtesans</title>\n",
       "<ellipse fill=\"none\" stroke=\"#000000\" cx=\"396.2209\" cy=\"-504\" rx=\"113.9803\" ry=\"18\"/>\n",
       "<text text-anchor=\"middle\" x=\"396.2209\" y=\"-500.3\" font-family=\"Times,serif\" font-size=\"14.00\" fill=\"#000000\">Dialogues of the Courtesans</text>\n",
       "</g>\n",
       "<!-- Lucian&#45;&gt;Dialogues of the Courtesans -->\n",
       "<g id=\"edge9\" class=\"edge\">\n",
       "<title>Lucian&#45;&gt;Dialogues of the Courtesans</title>\n",
       "<path fill=\"none\" stroke=\"#000000\" d=\"M121.1003,-480.071C161.1343,-483.553 228.3798,-489.4018 286.3658,-494.4452\"/>\n",
       "<polygon fill=\"#000000\" stroke=\"#000000\" points=\"286.0638,-497.932 296.3295,-495.3118 286.6704,-490.9584 286.0638,-497.932\"/>\n",
       "<text text-anchor=\"middle\" x=\"205.5848\" y=\"-491.8\" font-family=\"Times,serif\" font-size=\"14.00\" fill=\"#000000\">wrote</text>\n",
       "</g>\n",
       "<!-- Dialogues of the Gods -->\n",
       "<g id=\"node16\" class=\"node\">\n",
       "<title>Dialogues of the Gods</title>\n",
       "<ellipse fill=\"none\" stroke=\"#000000\" cx=\"396.2209\" cy=\"-450\" rx=\"92.0841\" ry=\"18\"/>\n",
       "<text text-anchor=\"middle\" x=\"396.2209\" y=\"-446.3\" font-family=\"Times,serif\" font-size=\"14.00\" fill=\"#000000\">Dialogues of the Gods</text>\n",
       "</g>\n",
       "<!-- Lucian&#45;&gt;Dialogues of the Gods -->\n",
       "<g id=\"edge10\" class=\"edge\">\n",
       "<title>Lucian&#45;&gt;Dialogues of the Gods</title>\n",
       "<path fill=\"none\" stroke=\"#000000\" d=\"M121.3287,-473.4524C141.3669,-471.4831 166.8655,-469.0289 189.5848,-467 225.7244,-463.7726 265.4406,-460.4511 300.3139,-457.61\"/>\n",
       "<polygon fill=\"#000000\" stroke=\"#000000\" points=\"300.8078,-461.0815 310.4915,-456.7833 300.2409,-454.1045 300.8078,-461.0815\"/>\n",
       "<text text-anchor=\"middle\" x=\"205.5848\" y=\"-470.8\" font-family=\"Times,serif\" font-size=\"14.00\" fill=\"#000000\">wrote</text>\n",
       "</g>\n",
       "</g>\n",
       "</svg>\n"
      ],
      "text/plain": [
       "<graphviz.dot.Digraph at 0x7f8587c76dd8>"
      ]
     },
     "execution_count": 146,
     "metadata": {},
     "output_type": "execute_result"
    }
   ],
   "source": [
    "g = Digraph()\n",
    "g.graph_attr['rankdir'] = 'LR'\n",
    "g.attr('node', shape='oval')\n",
    "\n",
    "for row in table.iterrows():\n",
    "    author = row[1][0].split('/')[-1].replace('_',' ')\n",
    "    work   = row[1][1].split('/')[-1].replace('_',' ')\n",
    "    g.node(author)\n",
    "    g.node(work)\n",
    "    g.edge(author, work, label=\"wrote\")\n",
    "\n",
    "g"
   ]
  },
  {
   "cell_type": "markdown",
   "metadata": {},
   "source": [
    "## Query Wikidata and visualize result\n",
    "https://query.wikidata.org/"
   ]
  },
  {
   "cell_type": "code",
   "execution_count": null,
   "metadata": {},
   "outputs": [],
   "source": []
  },
  {
   "cell_type": "code",
   "execution_count": null,
   "metadata": {},
   "outputs": [],
   "source": []
  },
  {
   "cell_type": "code",
   "execution_count": null,
   "metadata": {},
   "outputs": [],
   "source": []
  },
  {
   "cell_type": "code",
   "execution_count": null,
   "metadata": {},
   "outputs": [],
   "source": []
  },
  {
   "cell_type": "code",
   "execution_count": null,
   "metadata": {},
   "outputs": [],
   "source": []
  },
  {
   "cell_type": "markdown",
   "metadata": {},
   "source": [
    "# Exercises"
   ]
  },
  {
   "cell_type": "markdown",
   "metadata": {},
   "source": [
    "## 3.1\n",
    "* variables, e.g. `?title, ?author, ?date`\n",
    "* SELECT statement, e.g. `SELECT ?title ?author ?date`\n",
    "* Graph Pattern Matching, e.g. `?book dbo:author ?author`\n",
    "* complex (conjunctive (and)) queries\n",
    "* solution sequence modifiers\n",
    "* filter constraints\n",
    "* Unary Operator Constraints e.g. `FILTER (LANG(?author_name)=\"en\").`"
   ]
  },
  {
   "cell_type": "markdown",
   "metadata": {},
   "source": [
    "### Example:\n",
    "\n",
    "```\n",
    "PREFIX :     <http://dbpedia.org/resource/>\n",
    "PREFIX rdf:  <http://www.w3.org/1999/02/22-rdf-syntax-ns#>\n",
    "PREFIX rdfs: <http://www.w3.org/2000/01/rdf-schema#>\n",
    "PREFIX dbo:  <http://dbpedia.org/ontology/>\n",
    "\n",
    "SELECT ?author_name ?title\n",
    "\n",
    "FROM <http://dbpedia.org/>\n",
    "\n",
    "WHERE {\n",
    "?author rdf:type dbo:Writer .\n",
    "?author rdfs:label ?author_name .\n",
    "?author dbo:notableWork ?work .\n",
    "        ?work rdfs:label ?title .\n",
    "}\n",
    "ORDER BY ASC (?author_name)\n",
    "LIMIT 100\n",
    "OFFSET 10\n",
    "```"
   ]
  },
  {
   "cell_type": "markdown",
   "metadata": {},
   "source": []
  },
  {
   "cell_type": "markdown",
   "metadata": {},
   "source": []
  },
  {
   "cell_type": "markdown",
   "metadata": {},
   "source": []
  },
  {
   "cell_type": "markdown",
   "metadata": {},
   "source": [
    "## 3.2\n",
    "* SERVICE wikibase:label\n",
    "{ bd:serviceParam wikibase:language \"en\" }\n",
    "* Operators\n",
    "    * Logical connectives && (AND) and || (OR) for xsd:boolean\n",
    "    * Comparison operators =, !=, <, >, <=, and >= for numeric datatypes,\n",
    "    xsd:dateTime, xsd:string, and xsd:boolean\n",
    "    * Comparison operators = and != for other datatypes\n",
    "    * Arithmetic operators +, -, *, and / for numeric datatypes\n",
    "    * REGEX(String,Pattern) or REGEX(String,Pattern,Flags) e.g. `FILTER REGEX (?bookLabel,\"earth$\",\"i\") .`   \n",
    "     *(The regular expression language is the same as the XQuery regular expression language which is codified version of that found in Perl)*   \n",
    "    * sameTERM(A,B)\n",
    "    * langMATCHES(A,B)\n",
    "* optional constraint\n",
    "* logical disjunction - UMION (or)\n",
    "* negation\n",
    "    * FILTER NOT EXISTS\n",
    "    * MINUS\n",
    "    * !BOUND()"
   ]
  },
  {
   "cell_type": "code",
   "execution_count": null,
   "metadata": {},
   "outputs": [],
   "source": []
  },
  {
   "cell_type": "code",
   "execution_count": null,
   "metadata": {},
   "outputs": [],
   "source": []
  },
  {
   "cell_type": "markdown",
   "metadata": {},
   "source": [
    "## 3.3\n",
    "* Fedarated queries SERVICE {}\n",
    "* variabe assignment e.g. `BIND (YEAR(?date) AS ?year) FILTER (BOUND(?year))`\n",
    "* Aggragate functions\n",
    "    * count\n",
    "    * count(distinct())\n",
    "    * SUM\n",
    "    * AVG\n",
    "    * MIN / MAX\n",
    "    * SAMPLE\n",
    "    * GROUP_CONCAT\n",
    "* GROUP BY\n",
    "\n",
    "\n"
   ]
  },
  {
   "cell_type": "code",
   "execution_count": null,
   "metadata": {},
   "outputs": [],
   "source": []
  },
  {
   "cell_type": "code",
   "execution_count": null,
   "metadata": {},
   "outputs": [],
   "source": []
  },
  {
   "cell_type": "markdown",
   "metadata": {},
   "source": [
    "## 3.4 \n",
    "* Inner subqueries\n",
    "* Property paths\n",
    "    * alternatives: match one or both possibilities      \n",
    "        `{ :book1 dc:title|rdfs:label ?displayString . }`\n",
    "    * sequence: property path of length >1      \n",
    "        `{ :alice foaf:knows/foaf:knows/foaf:name ?name . }`\n",
    "    * inverse property paths: reversing the direction of the triple     \n",
    "        `{ ?x foaf:mbox <mailto:alice@example> . }`\n",
    "         ` =`\n",
    "        `{ <mailto:alice@example> ^foaf:mbox ?x . }`\n",
    "    * inverse path sequences   \n",
    "        `{ ?x foaf:knows/^foaf:knows ?y .  FILTER (?x != ?y) }`\n",
    "    * arbitrary length match (+ one or more; * zero or more).  \n",
    "        `{ :alice foaf:knows+/foaf:name ?name . }`\n",
    "    * negated property paths   \n",
    "        `{ ?x !(rdf:type|^rdf:type) ?y . }`\n",
    "        "
   ]
  },
  {
   "cell_type": "code",
   "execution_count": null,
   "metadata": {},
   "outputs": [],
   "source": []
  },
  {
   "cell_type": "code",
   "execution_count": null,
   "metadata": {},
   "outputs": [],
   "source": []
  },
  {
   "cell_type": "markdown",
   "metadata": {},
   "source": [
    "## 3.6\n",
    "* ASK\n",
    "* CONSTRUCT\n",
    "* DESCRIBE"
   ]
  },
  {
   "cell_type": "code",
   "execution_count": null,
   "metadata": {},
   "outputs": [],
   "source": []
  },
  {
   "cell_type": "code",
   "execution_count": null,
   "metadata": {},
   "outputs": [],
   "source": []
  }
 ],
 "metadata": {
  "kernelspec": {
   "display_name": "Python 3",
   "language": "python",
   "name": "python3"
  },
  "language_info": {
   "codemirror_mode": {
    "name": "ipython",
    "version": 3
   },
   "file_extension": ".py",
   "mimetype": "text/x-python",
   "name": "python",
   "nbconvert_exporter": "python",
   "pygments_lexer": "ipython3",
   "version": "3.7.3"
  }
 },
 "nbformat": 4,
 "nbformat_minor": 4
}
